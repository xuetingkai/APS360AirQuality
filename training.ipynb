{
 "cells": [
  {
   "cell_type": "code",
   "execution_count": 22,
   "metadata": {},
   "outputs": [],
   "source": [
    "import numpy as np\n",
    "import torch\n",
    "import torch.nn as nn\n",
    "import torch.nn.functional as F\n",
    "import torch.optim as optim"
   ]
  },
  {
   "cell_type": "markdown",
   "metadata": {},
   "source": [
    "# Reading the Weather and PM2.5 Data\n",
    "\n",
    "- using min-max normalization"
   ]
  },
  {
   "cell_type": "code",
   "execution_count": 8,
   "metadata": {},
   "outputs": [],
   "source": [
    "from data_preprocessing import load_X_y\n",
    "import pandas as pd\n",
    "\n",
    "weather_df, pollutant_df = load_X_y()"
   ]
  },
  {
   "cell_type": "code",
   "execution_count": 9,
   "metadata": {},
   "outputs": [
    {
     "data": {
      "text/html": [
       "<div>\n",
       "<style scoped>\n",
       "    .dataframe tbody tr th:only-of-type {\n",
       "        vertical-align: middle;\n",
       "    }\n",
       "\n",
       "    .dataframe tbody tr th {\n",
       "        vertical-align: top;\n",
       "    }\n",
       "\n",
       "    .dataframe thead th {\n",
       "        text-align: right;\n",
       "    }\n",
       "</style>\n",
       "<table border=\"1\" class=\"dataframe\">\n",
       "  <thead>\n",
       "    <tr style=\"text-align: right;\">\n",
       "      <th></th>\n",
       "      <th>max_dew_point_v</th>\n",
       "      <th>max_relative_humidity_v</th>\n",
       "      <th>max_temperature_v</th>\n",
       "      <th>max_wind_speed_v</th>\n",
       "      <th>min_dew_point_v</th>\n",
       "      <th>min_relative_humidity_v</th>\n",
       "      <th>min_temperature_v</th>\n",
       "      <th>min_wind_speed_v</th>\n",
       "      <th>precipitation_v</th>\n",
       "      <th>rain_v</th>\n",
       "      <th>snow_v</th>\n",
       "      <th>snow_on_ground_v</th>\n",
       "    </tr>\n",
       "  </thead>\n",
       "  <tbody>\n",
       "    <tr>\n",
       "      <th>count</th>\n",
       "      <td>7304.000000</td>\n",
       "      <td>7304.000000</td>\n",
       "      <td>7304.000000</td>\n",
       "      <td>7304.000000</td>\n",
       "      <td>7304.000000</td>\n",
       "      <td>7304.000000</td>\n",
       "      <td>7304.000000</td>\n",
       "      <td>7304.000000</td>\n",
       "      <td>7304.000000</td>\n",
       "      <td>7304.000000</td>\n",
       "      <td>7304.000000</td>\n",
       "      <td>7304.000000</td>\n",
       "    </tr>\n",
       "    <tr>\n",
       "      <th>mean</th>\n",
       "      <td>0.514953</td>\n",
       "      <td>0.571856</td>\n",
       "      <td>0.524171</td>\n",
       "      <td>0.571205</td>\n",
       "      <td>0.518990</td>\n",
       "      <td>0.486371</td>\n",
       "      <td>0.519177</td>\n",
       "      <td>0.510449</td>\n",
       "      <td>0.491174</td>\n",
       "      <td>0.509921</td>\n",
       "      <td>0.247726</td>\n",
       "      <td>0.177910</td>\n",
       "    </tr>\n",
       "    <tr>\n",
       "      <th>std</th>\n",
       "      <td>0.335249</td>\n",
       "      <td>0.218783</td>\n",
       "      <td>0.335174</td>\n",
       "      <td>0.255798</td>\n",
       "      <td>0.326785</td>\n",
       "      <td>0.261585</td>\n",
       "      <td>0.314073</td>\n",
       "      <td>0.271372</td>\n",
       "      <td>0.181621</td>\n",
       "      <td>0.244698</td>\n",
       "      <td>0.315199</td>\n",
       "      <td>0.278788</td>\n",
       "    </tr>\n",
       "    <tr>\n",
       "      <th>min</th>\n",
       "      <td>0.000000</td>\n",
       "      <td>0.000000</td>\n",
       "      <td>0.000000</td>\n",
       "      <td>0.000000</td>\n",
       "      <td>0.000000</td>\n",
       "      <td>0.000000</td>\n",
       "      <td>0.000000</td>\n",
       "      <td>0.000000</td>\n",
       "      <td>0.000000</td>\n",
       "      <td>0.000000</td>\n",
       "      <td>0.000000</td>\n",
       "      <td>0.000000</td>\n",
       "    </tr>\n",
       "    <tr>\n",
       "      <th>25%</th>\n",
       "      <td>0.179659</td>\n",
       "      <td>0.412934</td>\n",
       "      <td>0.182859</td>\n",
       "      <td>0.357715</td>\n",
       "      <td>0.201610</td>\n",
       "      <td>0.258465</td>\n",
       "      <td>0.210211</td>\n",
       "      <td>0.271762</td>\n",
       "      <td>0.344340</td>\n",
       "      <td>0.237410</td>\n",
       "      <td>0.000000</td>\n",
       "      <td>0.000000</td>\n",
       "    </tr>\n",
       "    <tr>\n",
       "      <th>50%</th>\n",
       "      <td>0.495475</td>\n",
       "      <td>0.597683</td>\n",
       "      <td>0.536310</td>\n",
       "      <td>0.632265</td>\n",
       "      <td>0.500370</td>\n",
       "      <td>0.435290</td>\n",
       "      <td>0.517430</td>\n",
       "      <td>0.509554</td>\n",
       "      <td>0.504717</td>\n",
       "      <td>0.593525</td>\n",
       "      <td>0.016667</td>\n",
       "      <td>0.000000</td>\n",
       "    </tr>\n",
       "    <tr>\n",
       "      <th>75%</th>\n",
       "      <td>0.863534</td>\n",
       "      <td>0.743629</td>\n",
       "      <td>0.859094</td>\n",
       "      <td>0.795591</td>\n",
       "      <td>0.851591</td>\n",
       "      <td>0.731753</td>\n",
       "      <td>0.828169</td>\n",
       "      <td>0.762208</td>\n",
       "      <td>0.617925</td>\n",
       "      <td>0.701439</td>\n",
       "      <td>0.583333</td>\n",
       "      <td>0.360465</td>\n",
       "    </tr>\n",
       "    <tr>\n",
       "      <th>max</th>\n",
       "      <td>1.000000</td>\n",
       "      <td>1.000000</td>\n",
       "      <td>1.000000</td>\n",
       "      <td>1.000000</td>\n",
       "      <td>1.000000</td>\n",
       "      <td>1.000000</td>\n",
       "      <td>1.000000</td>\n",
       "      <td>1.000000</td>\n",
       "      <td>1.000000</td>\n",
       "      <td>1.000000</td>\n",
       "      <td>1.000000</td>\n",
       "      <td>1.000000</td>\n",
       "    </tr>\n",
       "  </tbody>\n",
       "</table>\n",
       "</div>"
      ],
      "text/plain": [
       "       max_dew_point_v  max_relative_humidity_v  max_temperature_v  \\\n",
       "count      7304.000000              7304.000000        7304.000000   \n",
       "mean          0.514953                 0.571856           0.524171   \n",
       "std           0.335249                 0.218783           0.335174   \n",
       "min           0.000000                 0.000000           0.000000   \n",
       "25%           0.179659                 0.412934           0.182859   \n",
       "50%           0.495475                 0.597683           0.536310   \n",
       "75%           0.863534                 0.743629           0.859094   \n",
       "max           1.000000                 1.000000           1.000000   \n",
       "\n",
       "       max_wind_speed_v  min_dew_point_v  min_relative_humidity_v  \\\n",
       "count       7304.000000      7304.000000              7304.000000   \n",
       "mean           0.571205         0.518990                 0.486371   \n",
       "std            0.255798         0.326785                 0.261585   \n",
       "min            0.000000         0.000000                 0.000000   \n",
       "25%            0.357715         0.201610                 0.258465   \n",
       "50%            0.632265         0.500370                 0.435290   \n",
       "75%            0.795591         0.851591                 0.731753   \n",
       "max            1.000000         1.000000                 1.000000   \n",
       "\n",
       "       min_temperature_v  min_wind_speed_v  precipitation_v       rain_v  \\\n",
       "count        7304.000000       7304.000000      7304.000000  7304.000000   \n",
       "mean            0.519177          0.510449         0.491174     0.509921   \n",
       "std             0.314073          0.271372         0.181621     0.244698   \n",
       "min             0.000000          0.000000         0.000000     0.000000   \n",
       "25%             0.210211          0.271762         0.344340     0.237410   \n",
       "50%             0.517430          0.509554         0.504717     0.593525   \n",
       "75%             0.828169          0.762208         0.617925     0.701439   \n",
       "max             1.000000          1.000000         1.000000     1.000000   \n",
       "\n",
       "            snow_v  snow_on_ground_v  \n",
       "count  7304.000000       7304.000000  \n",
       "mean      0.247726          0.177910  \n",
       "std       0.315199          0.278788  \n",
       "min       0.000000          0.000000  \n",
       "25%       0.000000          0.000000  \n",
       "50%       0.016667          0.000000  \n",
       "75%       0.583333          0.360465  \n",
       "max       1.000000          1.000000  "
      ]
     },
     "execution_count": 9,
     "metadata": {},
     "output_type": "execute_result"
    }
   ],
   "source": [
    "weather_df_normalized = (weather_df-weather_df.min())/(weather_df.max()-weather_df.min())\n",
    "weather_df_normalized.describe()"
   ]
  },
  {
   "cell_type": "code",
   "execution_count": 10,
   "metadata": {},
   "outputs": [
    {
     "data": {
      "text/html": [
       "<div>\n",
       "<style scoped>\n",
       "    .dataframe tbody tr th:only-of-type {\n",
       "        vertical-align: middle;\n",
       "    }\n",
       "\n",
       "    .dataframe tbody tr th {\n",
       "        vertical-align: top;\n",
       "    }\n",
       "\n",
       "    .dataframe thead th {\n",
       "        text-align: right;\n",
       "    }\n",
       "</style>\n",
       "<table border=\"1\" class=\"dataframe\">\n",
       "  <thead>\n",
       "    <tr style=\"text-align: right;\">\n",
       "      <th></th>\n",
       "      <th>P2.5</th>\n",
       "    </tr>\n",
       "  </thead>\n",
       "  <tbody>\n",
       "    <tr>\n",
       "      <th>0</th>\n",
       "      <td>9.208333</td>\n",
       "    </tr>\n",
       "    <tr>\n",
       "      <th>1</th>\n",
       "      <td>8.750000</td>\n",
       "    </tr>\n",
       "    <tr>\n",
       "      <th>2</th>\n",
       "      <td>8.750000</td>\n",
       "    </tr>\n",
       "    <tr>\n",
       "      <th>3</th>\n",
       "      <td>11.000000</td>\n",
       "    </tr>\n",
       "    <tr>\n",
       "      <th>4</th>\n",
       "      <td>12.833333</td>\n",
       "    </tr>\n",
       "    <tr>\n",
       "      <th>...</th>\n",
       "      <td>...</td>\n",
       "    </tr>\n",
       "    <tr>\n",
       "      <th>7299</th>\n",
       "      <td>5.958333</td>\n",
       "    </tr>\n",
       "    <tr>\n",
       "      <th>7300</th>\n",
       "      <td>8.500000</td>\n",
       "    </tr>\n",
       "    <tr>\n",
       "      <th>7301</th>\n",
       "      <td>5.041667</td>\n",
       "    </tr>\n",
       "    <tr>\n",
       "      <th>7302</th>\n",
       "      <td>2.916667</td>\n",
       "    </tr>\n",
       "    <tr>\n",
       "      <th>7303</th>\n",
       "      <td>2.541667</td>\n",
       "    </tr>\n",
       "  </tbody>\n",
       "</table>\n",
       "<p>7304 rows × 1 columns</p>\n",
       "</div>"
      ],
      "text/plain": [
       "           P2.5\n",
       "0      9.208333\n",
       "1      8.750000\n",
       "2      8.750000\n",
       "3     11.000000\n",
       "4     12.833333\n",
       "...         ...\n",
       "7299   5.958333\n",
       "7300   8.500000\n",
       "7301   5.041667\n",
       "7302   2.916667\n",
       "7303   2.541667\n",
       "\n",
       "[7304 rows x 1 columns]"
      ]
     },
     "execution_count": 10,
     "metadata": {},
     "output_type": "execute_result"
    }
   ],
   "source": [
    "pollutant_df"
   ]
  },
  {
   "cell_type": "code",
   "execution_count": 15,
   "metadata": {},
   "outputs": [
    {
     "name": "stdout",
     "output_type": "stream",
     "text": [
      "torch.Size([7304])\n",
      "torch.Size([7304, 12])\n"
     ]
    }
   ],
   "source": [
    "pollutant_tensor = torch.tensor(pollutant_df['P2.5'].values)\n",
    "weather_tensor = torch.tensor(weather_df_normalized[:].values)\n",
    "\n",
    "print(pollutant_tensor.shape)\n",
    "print(weather_tensor.shape)"
   ]
  },
  {
   "cell_type": "code",
   "execution_count": 17,
   "metadata": {},
   "outputs": [
    {
     "data": {
      "text/plain": [
       "torch.Tensor"
      ]
     },
     "execution_count": 17,
     "metadata": {},
     "output_type": "execute_result"
    }
   ],
   "source": [
    "type(pollutant_tensor)"
   ]
  },
  {
   "cell_type": "markdown",
   "metadata": {},
   "source": [
    "# Dataset\n",
    "\n",
    "- We'll train using the first 5000+14 days to train, 1000+14 days to validate, 1000+14 days to test\n",
    "- Ensure sequencing is maintained\n",
    "- Test data will be the latest data as the model is intended to use historical data to predict future data"
   ]
  },
  {
   "cell_type": "code",
   "execution_count": 23,
   "metadata": {},
   "outputs": [],
   "source": [
    "from torch.utils.data import Dataset"
   ]
  },
  {
   "cell_type": "code",
   "execution_count": 44,
   "metadata": {},
   "outputs": [],
   "source": [
    "# creating a custom dataset in a sliding window manner\n",
    "class WeatherPollutantDataset(Dataset):\n",
    "    def __init__(self, weather: torch.Tensor, pollutant: torch.Tensor, window:int):\n",
    "        self.weather = weather\n",
    "        self.pollutant = pollutant\n",
    "        # assumes the data starts on the same day\n",
    "        # assumes their length is the same\n",
    "        assert len(self.weather) == len(self.pollutant)\n",
    "        self.window = window\n",
    "\n",
    "    def __getitem__(self, index: int):\n",
    "        \"\"\"\n",
    "        Using weather input on day i,i+1,...,i+window-1 to predict pollutant output on i+window\n",
    "        \"\"\"\n",
    "        weather_input = self.weather[index:index+self.window].permute(1,0)\n",
    "        pollutant_output = self.pollutant[index+self.window]\n",
    "        return weather_input, pollutant_output\n",
    "\n",
    "    def __len__(self):\n",
    "        return len(self.weather) - self.window"
   ]
  },
  {
   "cell_type": "code",
   "execution_count": 70,
   "metadata": {},
   "outputs": [],
   "source": [
    "train_set = WeatherPollutantDataset(weather=weather_tensor[:5014], pollutant=pollutant_tensor[:5014], window=14)\n",
    "val_set   = WeatherPollutantDataset(weather=weather_tensor[5014:6028], pollutant=pollutant_tensor[5014:6028], window=14)\n",
    "test_set  = WeatherPollutantDataset(weather=weather_tensor[6028:7042], pollutant=pollutant_tensor[6028:7042], window=14)"
   ]
  },
  {
   "cell_type": "code",
   "execution_count": 37,
   "metadata": {},
   "outputs": [
    {
     "name": "stdout",
     "output_type": "stream",
     "text": [
      "Number of training data: 5000\n",
      "Number of validation data: 1000\n",
      "Number of testing data: 1000\n"
     ]
    }
   ],
   "source": [
    "print(\"Number of training data: %d\" % len(train_set))\n",
    "print(\"Number of validation data: %d\" % len(val_set))\n",
    "print(\"Number of testing data: %d\" % len(test_set))"
   ]
  },
  {
   "cell_type": "code",
   "execution_count": 38,
   "metadata": {},
   "outputs": [],
   "source": [
    "from torch.utils.data import DataLoader"
   ]
  },
  {
   "cell_type": "code",
   "execution_count": 65,
   "metadata": {},
   "outputs": [
    {
     "data": {
      "text/plain": [
       "torch.Size([64, 12, 14])"
      ]
     },
     "execution_count": 65,
     "metadata": {},
     "output_type": "execute_result"
    }
   ],
   "source": [
    "test_loader = DataLoader(test_set, batch_size=64)\n",
    "next(iter(test_loader))[0].shape"
   ]
  },
  {
   "cell_type": "markdown",
   "metadata": {},
   "source": [
    "# Model"
   ]
  },
  {
   "cell_type": "code",
   "execution_count": 92,
   "metadata": {},
   "outputs": [],
   "source": [
    "class CNNLSTM(nn.Module):\n",
    "    def __init__(self):\n",
    "        super().__init__()\n",
    "        self.name = \"CNNLSTM\"\n",
    "        self.pool = nn.MaxPool1d(kernel_size=2, stride=2)\n",
    "        self.conv1 = nn.Conv1d(in_channels=12, out_channels=16, kernel_size=3, stride=1, padding=1)\n",
    "        self.conv2 = nn.Conv1d(in_channels=16, out_channels=25, kernel_size=3, stride=1, padding=1)\n",
    "        self.conv3 = nn.Conv1d(in_channels=25, out_channels=36, kernel_size=3, stride=1, padding=1)\n",
    "\n",
    "        self.lstm = nn.LSTM(input_size=36, hidden_size=500, num_layers=1, batch_first=True)\n",
    "        self.linear1 = nn.Linear(500, 20)\n",
    "        self.linear2 = nn.Linear(20, 1)\n",
    "\n",
    "    def forward(self, x):\n",
    "        x = self.pool(F.relu(self.conv1(x)))\n",
    "        x = self.pool(F.relu(self.conv2(x)))\n",
    "        x = self.pool(F.relu(self.conv3(x)))\n",
    "        x = x.squeeze(dim=2)\n",
    "        x, _ = self.lstm(x)\n",
    "        x = F.relu(self.linear1(x))\n",
    "        x = self.linear2(x)\n",
    "        return x"
   ]
  },
  {
   "cell_type": "code",
   "execution_count": 95,
   "metadata": {},
   "outputs": [],
   "source": [
    "import matplotlib.pyplot as plt\n",
    "def evaluate(net, loader, criterion):\n",
    "    total_loss = 0.0\n",
    "    total_epoch = 0\n",
    "    for i, data in enumerate(loader, 0):\n",
    "        inputs, labels = data\n",
    "        if torch.cuda.is_available():\n",
    "          inputs = inputs.float().cuda()\n",
    "          labels = labels.float().cuda()\n",
    "\n",
    "        outputs = net(inputs)\n",
    "        loss = criterion(outputs, labels)\n",
    "        total_loss += loss.item()\n",
    "        total_epoch += len(labels)\n",
    "    loss = float(total_loss) / (i + 1)\n",
    "    return loss\n",
    "\n",
    "def train_net(net, train_set, val_set, batch_size=64, learning_rate=0.001, num_epochs=30):\n",
    "    torch.manual_seed(1000)\n",
    "    train_loader = torch.utils.data.DataLoader(train_set, shuffle=False)\n",
    "    val_loader = torch.utils.data.DataLoader(val_set, shuffle=False)\n",
    "    criterion = nn.MSELoss()\n",
    "    optimizer = optim.Adam(net.parameters(), lr=learning_rate)\n",
    "\n",
    "    train_loss = np.zeros(num_epochs)\n",
    "    val_loss = np.zeros(num_epochs)\n",
    "\n",
    "    for epoch in range(num_epochs):  \n",
    "        total_train_loss = 0.0\n",
    "        total_epoch = 0\n",
    "\n",
    "        for i, data in enumerate(train_loader, 0):\n",
    "            inputs, labels = data\n",
    "            if torch.torch.cuda.is_available():\n",
    "              inputs = inputs.float().cuda()\n",
    "              labels = labels.float().cuda()\n",
    "            outputs = net(inputs)                   \n",
    "            loss = criterion(outputs, labels)       \n",
    "                                                    \n",
    "            optimizer.zero_grad()\n",
    "            loss.backward()\n",
    "            optimizer.step()\n",
    "            # Calculate the statistics\n",
    "            total_train_loss += loss.item()\n",
    "            total_epoch += len(labels)\n",
    "        train_loss[epoch] = float(total_train_loss) / (i+1)\n",
    "        val_loss[epoch] = evaluate(net, val_loader, criterion)\n",
    "        print((\"Epoch {}: Train loss: {} | Validation loss: {}\").format(epoch + 1,train_loss[epoch],val_loss[epoch]))\n",
    "        # Save the current model (checkpoint) to a file\n",
    "        # torch.save(net.state_dict(), model_path)\n",
    "    print('Finished Training')\n",
    "    # Write the train/test loss/err into CSV file for plotting later\n",
    "    epochs = np.arange(1, num_epochs + 1)\n",
    "    plt.plot(epochs, train_loss)\n"
   ]
  },
  {
   "cell_type": "code",
   "execution_count": 96,
   "metadata": {},
   "outputs": [
    {
     "name": "stderr",
     "output_type": "stream",
     "text": [
      "c:\\Users\\xueti\\anaconda3\\lib\\site-packages\\torch\\nn\\modules\\loss.py:536: UserWarning: Using a target size (torch.Size([1])) that is different to the input size (torch.Size([1, 1])). This will likely lead to incorrect results due to broadcasting. Please ensure they have the same size.\n",
      "  return F.mse_loss(input, target, reduction=self.reduction)\n"
     ]
    },
    {
     "name": "stdout",
     "output_type": "stream",
     "text": [
      "Epoch 1: Train loss: 1564.098719477638 | Validation loss: 73.58648244688361\n",
      "Epoch 2: Train loss: 1562.2867154181845 | Validation loss: 78.22007564061461\n",
      "Epoch 3: Train loss: 1564.034813223923 | Validation loss: 73.81999067511433\n",
      "Epoch 4: Train loss: 1563.2719521939323 | Validation loss: 72.6370370064844\n",
      "Epoch 5: Train loss: 1563.9100227605377 | Validation loss: 73.86858729957245\n",
      "Epoch 6: Train loss: 1562.7755494876922 | Validation loss: 74.25870653122882\n",
      "Epoch 7: Train loss: 1562.8802613713722 | Validation loss: 72.56073327250566\n",
      "Epoch 8: Train loss: 1562.8240133031886 | Validation loss: 71.94730207997857\n",
      "Epoch 9: Train loss: 1560.8639801901486 | Validation loss: 72.3026963684539\n",
      "Epoch 10: Train loss: 1562.5360488930032 | Validation loss: 71.9547519477271\n",
      "Epoch 11: Train loss: 1562.4857254476563 | Validation loss: 72.8039481815429\n",
      "Epoch 12: Train loss: 1561.5509686216958 | Validation loss: 72.33643899652394\n",
      "Epoch 13: Train loss: 1562.1358612436068 | Validation loss: 72.87674327697943\n",
      "Epoch 14: Train loss: 1562.1754624825285 | Validation loss: 74.14313216984111\n",
      "Epoch 15: Train loss: 1561.3250101628219 | Validation loss: 78.89597154492806\n",
      "Epoch 16: Train loss: 1563.0947321859453 | Validation loss: 75.62078758016281\n",
      "Epoch 17: Train loss: 1562.2999231322258 | Validation loss: 73.7952554338463\n",
      "Epoch 18: Train loss: 1562.6765519492462 | Validation loss: 73.13398728929054\n",
      "Epoch 19: Train loss: 1561.7329451485523 | Validation loss: 73.31887472204104\n",
      "Epoch 20: Train loss: 1562.3939213536355 | Validation loss: 71.1582494722315\n",
      "Epoch 21: Train loss: 1562.1345342588272 | Validation loss: 71.10824761355296\n",
      "Epoch 22: Train loss: 1561.8713731258713 | Validation loss: 71.88812330318345\n",
      "Epoch 23: Train loss: 1562.2060956676803 | Validation loss: 70.98790510906736\n",
      "Epoch 24: Train loss: 1561.9060739041477 | Validation loss: 71.08048522735574\n",
      "Epoch 25: Train loss: 1561.6642210054715 | Validation loss: 72.5312516272513\n",
      "Epoch 26: Train loss: 1562.3294726519682 | Validation loss: 73.13059481465692\n",
      "Epoch 27: Train loss: 1563.3789530258314 | Validation loss: 72.7662039047558\n",
      "Epoch 28: Train loss: 1563.1946781386832 | Validation loss: 72.5609883211065\n",
      "Epoch 29: Train loss: 1563.0922225707225 | Validation loss: 72.37747068609295\n",
      "Epoch 30: Train loss: 1562.9951741607078 | Validation loss: 72.23014437267967\n",
      "Finished Training\n"
     ]
    },
    {
     "data": {
      "image/png": "[encoded data removed]",
      "text/plain": [
       "<Figure size 640x480 with 1 Axes>"
      ]
     },
     "metadata": {},
     "output_type": "display_data"
    }
   ],
   "source": [
    "net = CNNLSTM()\n",
    "if torch.cuda.is_available():\n",
    "    net.cuda()\n",
    "train_net(net, train_set, val_set)"
   ]
  },
  {
   "cell_type": "code",
   "execution_count": 102,
   "metadata": {},
   "outputs": [
    {
     "data": {
      "text/plain": [
       "[<matplotlib.lines.Line2D at 0x1c29c990160>]"
      ]
     },
     "execution_count": 102,
     "metadata": {},
     "output_type": "execute_result"
    },
    {
     "data": {
      "image/png": "[encoded data removed]",
      "text/plain": [
       "<Figure size 640x480 with 1 Axes>"
      ]
     },
     "metadata": {},
     "output_type": "display_data"
    }
   ],
   "source": [
    "test_loader = DataLoader(test_set, batch_size=len(test_set), shuffle=False)\n",
    "data, label = next(iter(test_loader))\n",
    "data = data.float().cuda()\n",
    "pred = net(data)\n",
    "\n",
    "t = range(1000)\n",
    "plt.plot(t, label, 'r')\n",
    "plt.plot(t, pred.cpu().detach().numpy(), 'b')"
   ]
  },
  {
   "cell_type": "code",
   "execution_count": null,
   "metadata": {},
   "outputs": [],
   "source": []
  }
 ],
 "metadata": {
  "kernelspec": {
   "display_name": "base",
   "language": "python",
   "name": "python3"
  },
  "language_info": {
   "codemirror_mode": {
    "name": "ipython",
    "version": 3
   },
   "file_extension": ".py",
   "mimetype": "text/x-python",
   "name": "python",
   "nbconvert_exporter": "python",
   "pygments_lexer": "ipython3",
   "version": "3.10.9"
  }
 },
 "nbformat": 4,
 "nbformat_minor": 2
}
