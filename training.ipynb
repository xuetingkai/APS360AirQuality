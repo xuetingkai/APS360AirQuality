{
 "cells": [
  {
   "cell_type": "code",
   "execution_count": 9,
   "metadata": {},
   "outputs": [],
   "source": [
    "import numpy as np\n",
    "import torch\n",
    "import torch.nn as nn\n",
    "import torch.nn.functional as F\n",
    "import torch.optim as optim"
   ]
  },
  {
   "cell_type": "markdown",
   "metadata": {},
   "source": [
    "# Reading the Weather and PM2.5 Data\n",
    "\n",
    "- using min-max normalization"
   ]
  },
  {
   "cell_type": "code",
   "execution_count": 10,
   "metadata": {},
   "outputs": [],
   "source": [
    "from data_preprocessing import load_X_y\n",
    "import pandas as pd\n",
    "\n",
    "weather_df, pollutant_df = load_X_y()"
   ]
  },
  {
   "cell_type": "code",
   "execution_count": 11,
   "metadata": {},
   "outputs": [
    {
     "data": {
      "text/html": [
       "<div>\n",
       "<style scoped>\n",
       "    .dataframe tbody tr th:only-of-type {\n",
       "        vertical-align: middle;\n",
       "    }\n",
       "\n",
       "    .dataframe tbody tr th {\n",
       "        vertical-align: top;\n",
       "    }\n",
       "\n",
       "    .dataframe thead th {\n",
       "        text-align: right;\n",
       "    }\n",
       "</style>\n",
       "<table border=\"1\" class=\"dataframe\">\n",
       "  <thead>\n",
       "    <tr style=\"text-align: right;\">\n",
       "      <th></th>\n",
       "      <th>max_dew_point_v</th>\n",
       "      <th>max_relative_humidity_v</th>\n",
       "      <th>max_temperature_v</th>\n",
       "      <th>max_wind_speed_v</th>\n",
       "      <th>min_dew_point_v</th>\n",
       "      <th>min_relative_humidity_v</th>\n",
       "      <th>min_temperature_v</th>\n",
       "      <th>min_wind_speed_v</th>\n",
       "      <th>precipitation_v</th>\n",
       "      <th>rain_v</th>\n",
       "      <th>snow_v</th>\n",
       "      <th>snow_on_ground_v</th>\n",
       "    </tr>\n",
       "  </thead>\n",
       "  <tbody>\n",
       "    <tr>\n",
       "      <th>count</th>\n",
       "      <td>7304.000000</td>\n",
       "      <td>7304.000000</td>\n",
       "      <td>7304.000000</td>\n",
       "      <td>7304.000000</td>\n",
       "      <td>7304.000000</td>\n",
       "      <td>7304.000000</td>\n",
       "      <td>7304.000000</td>\n",
       "      <td>7304.000000</td>\n",
       "      <td>7304.000000</td>\n",
       "      <td>7304.000000</td>\n",
       "      <td>7304.000000</td>\n",
       "      <td>7304.000000</td>\n",
       "    </tr>\n",
       "    <tr>\n",
       "      <th>mean</th>\n",
       "      <td>0.514953</td>\n",
       "      <td>0.571856</td>\n",
       "      <td>0.524171</td>\n",
       "      <td>0.571205</td>\n",
       "      <td>0.518990</td>\n",
       "      <td>0.486371</td>\n",
       "      <td>0.519177</td>\n",
       "      <td>0.510449</td>\n",
       "      <td>0.491174</td>\n",
       "      <td>0.509921</td>\n",
       "      <td>0.247726</td>\n",
       "      <td>0.177910</td>\n",
       "    </tr>\n",
       "    <tr>\n",
       "      <th>std</th>\n",
       "      <td>0.335249</td>\n",
       "      <td>0.218783</td>\n",
       "      <td>0.335174</td>\n",
       "      <td>0.255798</td>\n",
       "      <td>0.326785</td>\n",
       "      <td>0.261585</td>\n",
       "      <td>0.314073</td>\n",
       "      <td>0.271372</td>\n",
       "      <td>0.181621</td>\n",
       "      <td>0.244698</td>\n",
       "      <td>0.315199</td>\n",
       "      <td>0.278788</td>\n",
       "    </tr>\n",
       "    <tr>\n",
       "      <th>min</th>\n",
       "      <td>0.000000</td>\n",
       "      <td>0.000000</td>\n",
       "      <td>0.000000</td>\n",
       "      <td>0.000000</td>\n",
       "      <td>0.000000</td>\n",
       "      <td>0.000000</td>\n",
       "      <td>0.000000</td>\n",
       "      <td>0.000000</td>\n",
       "      <td>0.000000</td>\n",
       "      <td>0.000000</td>\n",
       "      <td>0.000000</td>\n",
       "      <td>0.000000</td>\n",
       "    </tr>\n",
       "    <tr>\n",
       "      <th>25%</th>\n",
       "      <td>0.179659</td>\n",
       "      <td>0.412934</td>\n",
       "      <td>0.182859</td>\n",
       "      <td>0.357715</td>\n",
       "      <td>0.201610</td>\n",
       "      <td>0.258465</td>\n",
       "      <td>0.210211</td>\n",
       "      <td>0.271762</td>\n",
       "      <td>0.344340</td>\n",
       "      <td>0.237410</td>\n",
       "      <td>0.000000</td>\n",
       "      <td>0.000000</td>\n",
       "    </tr>\n",
       "    <tr>\n",
       "      <th>50%</th>\n",
       "      <td>0.495475</td>\n",
       "      <td>0.597683</td>\n",
       "      <td>0.536310</td>\n",
       "      <td>0.632265</td>\n",
       "      <td>0.500370</td>\n",
       "      <td>0.435290</td>\n",
       "      <td>0.517430</td>\n",
       "      <td>0.509554</td>\n",
       "      <td>0.504717</td>\n",
       "      <td>0.593525</td>\n",
       "      <td>0.016667</td>\n",
       "      <td>0.000000</td>\n",
       "    </tr>\n",
       "    <tr>\n",
       "      <th>75%</th>\n",
       "      <td>0.863534</td>\n",
       "      <td>0.743629</td>\n",
       "      <td>0.859094</td>\n",
       "      <td>0.795591</td>\n",
       "      <td>0.851591</td>\n",
       "      <td>0.731753</td>\n",
       "      <td>0.828169</td>\n",
       "      <td>0.762208</td>\n",
       "      <td>0.617925</td>\n",
       "      <td>0.701439</td>\n",
       "      <td>0.583333</td>\n",
       "      <td>0.360465</td>\n",
       "    </tr>\n",
       "    <tr>\n",
       "      <th>max</th>\n",
       "      <td>1.000000</td>\n",
       "      <td>1.000000</td>\n",
       "      <td>1.000000</td>\n",
       "      <td>1.000000</td>\n",
       "      <td>1.000000</td>\n",
       "      <td>1.000000</td>\n",
       "      <td>1.000000</td>\n",
       "      <td>1.000000</td>\n",
       "      <td>1.000000</td>\n",
       "      <td>1.000000</td>\n",
       "      <td>1.000000</td>\n",
       "      <td>1.000000</td>\n",
       "    </tr>\n",
       "  </tbody>\n",
       "</table>\n",
       "</div>"
      ],
      "text/plain": [
       "       max_dew_point_v  max_relative_humidity_v  max_temperature_v  \\\n",
       "count      7304.000000              7304.000000        7304.000000   \n",
       "mean          0.514953                 0.571856           0.524171   \n",
       "std           0.335249                 0.218783           0.335174   \n",
       "min           0.000000                 0.000000           0.000000   \n",
       "25%           0.179659                 0.412934           0.182859   \n",
       "50%           0.495475                 0.597683           0.536310   \n",
       "75%           0.863534                 0.743629           0.859094   \n",
       "max           1.000000                 1.000000           1.000000   \n",
       "\n",
       "       max_wind_speed_v  min_dew_point_v  min_relative_humidity_v  \\\n",
       "count       7304.000000      7304.000000              7304.000000   \n",
       "mean           0.571205         0.518990                 0.486371   \n",
       "std            0.255798         0.326785                 0.261585   \n",
       "min            0.000000         0.000000                 0.000000   \n",
       "25%            0.357715         0.201610                 0.258465   \n",
       "50%            0.632265         0.500370                 0.435290   \n",
       "75%            0.795591         0.851591                 0.731753   \n",
       "max            1.000000         1.000000                 1.000000   \n",
       "\n",
       "       min_temperature_v  min_wind_speed_v  precipitation_v       rain_v  \\\n",
       "count        7304.000000       7304.000000      7304.000000  7304.000000   \n",
       "mean            0.519177          0.510449         0.491174     0.509921   \n",
       "std             0.314073          0.271372         0.181621     0.244698   \n",
       "min             0.000000          0.000000         0.000000     0.000000   \n",
       "25%             0.210211          0.271762         0.344340     0.237410   \n",
       "50%             0.517430          0.509554         0.504717     0.593525   \n",
       "75%             0.828169          0.762208         0.617925     0.701439   \n",
       "max             1.000000          1.000000         1.000000     1.000000   \n",
       "\n",
       "            snow_v  snow_on_ground_v  \n",
       "count  7304.000000       7304.000000  \n",
       "mean      0.247726          0.177910  \n",
       "std       0.315199          0.278788  \n",
       "min       0.000000          0.000000  \n",
       "25%       0.000000          0.000000  \n",
       "50%       0.016667          0.000000  \n",
       "75%       0.583333          0.360465  \n",
       "max       1.000000          1.000000  "
      ]
     },
     "execution_count": 11,
     "metadata": {},
     "output_type": "execute_result"
    }
   ],
   "source": [
    "weather_df_normalized = (weather_df-weather_df.min())/(weather_df.max()-weather_df.min())\n",
    "weather_df_normalized.describe()"
   ]
  },
  {
   "cell_type": "code",
   "execution_count": 12,
   "metadata": {},
   "outputs": [
    {
     "data": {
      "text/html": [
       "<div>\n",
       "<style scoped>\n",
       "    .dataframe tbody tr th:only-of-type {\n",
       "        vertical-align: middle;\n",
       "    }\n",
       "\n",
       "    .dataframe tbody tr th {\n",
       "        vertical-align: top;\n",
       "    }\n",
       "\n",
       "    .dataframe thead th {\n",
       "        text-align: right;\n",
       "    }\n",
       "</style>\n",
       "<table border=\"1\" class=\"dataframe\">\n",
       "  <thead>\n",
       "    <tr style=\"text-align: right;\">\n",
       "      <th></th>\n",
       "      <th>P2.5</th>\n",
       "    </tr>\n",
       "  </thead>\n",
       "  <tbody>\n",
       "    <tr>\n",
       "      <th>count</th>\n",
       "      <td>7304.000000</td>\n",
       "    </tr>\n",
       "    <tr>\n",
       "      <th>mean</th>\n",
       "      <td>7.435753</td>\n",
       "    </tr>\n",
       "    <tr>\n",
       "      <th>std</th>\n",
       "      <td>5.374638</td>\n",
       "    </tr>\n",
       "    <tr>\n",
       "      <th>min</th>\n",
       "      <td>0.000000</td>\n",
       "    </tr>\n",
       "    <tr>\n",
       "      <th>25%</th>\n",
       "      <td>3.916667</td>\n",
       "    </tr>\n",
       "    <tr>\n",
       "      <th>50%</th>\n",
       "      <td>6.166667</td>\n",
       "    </tr>\n",
       "    <tr>\n",
       "      <th>75%</th>\n",
       "      <td>9.333333</td>\n",
       "    </tr>\n",
       "    <tr>\n",
       "      <th>max</th>\n",
       "      <td>58.666667</td>\n",
       "    </tr>\n",
       "  </tbody>\n",
       "</table>\n",
       "</div>"
      ],
      "text/plain": [
       "              P2.5\n",
       "count  7304.000000\n",
       "mean      7.435753\n",
       "std       5.374638\n",
       "min       0.000000\n",
       "25%       3.916667\n",
       "50%       6.166667\n",
       "75%       9.333333\n",
       "max      58.666667"
      ]
     },
     "execution_count": 12,
     "metadata": {},
     "output_type": "execute_result"
    }
   ],
   "source": [
    "pollutant_df.describe()"
   ]
  },
  {
   "cell_type": "code",
   "execution_count": 13,
   "metadata": {},
   "outputs": [
    {
     "name": "stdout",
     "output_type": "stream",
     "text": [
      "torch.Size([7304])\n",
      "torch.Size([7304, 12])\n"
     ]
    }
   ],
   "source": [
    "pollutant_tensor = torch.tensor(pollutant_df['P2.5'].values)\n",
    "weather_tensor = torch.tensor(weather_df_normalized[:].values)\n",
    "\n",
    "print(pollutant_tensor.shape)\n",
    "print(weather_tensor.shape)"
   ]
  },
  {
   "cell_type": "code",
   "execution_count": 14,
   "metadata": {},
   "outputs": [
    {
     "data": {
      "text/plain": [
       "torch.Tensor"
      ]
     },
     "execution_count": 14,
     "metadata": {},
     "output_type": "execute_result"
    }
   ],
   "source": [
    "type(pollutant_tensor)"
   ]
  },
  {
   "cell_type": "markdown",
   "metadata": {},
   "source": [
    "# Dataset\n",
    "\n",
    "- We'll train using the first 5000+14 days to train, 1000+14 days to validate, 1000+14 days to test\n",
    "- Ensure sequencing is maintained\n",
    "- Test data will be the latest data as the model is intended to use historical data to predict future data"
   ]
  },
  {
   "cell_type": "code",
   "execution_count": 15,
   "metadata": {},
   "outputs": [],
   "source": [
    "from torch.utils.data import Dataset"
   ]
  },
  {
   "cell_type": "code",
   "execution_count": 16,
   "metadata": {},
   "outputs": [],
   "source": [
    "# creating a custom dataset in a sliding window manner\n",
    "class WeatherPollutantDataset(Dataset):\n",
    "    def __init__(self, weather: torch.Tensor, pollutant: torch.Tensor, window:int):\n",
    "        self.weather = weather\n",
    "        self.pollutant = pollutant\n",
    "        # assumes the data starts on the same day\n",
    "        # assumes their length is the same\n",
    "        assert len(self.weather) == len(self.pollutant)\n",
    "        self.window = window\n",
    "\n",
    "    def __getitem__(self, index: int):\n",
    "        \"\"\"\n",
    "        Using weather input on day i,i+1,...,i+window-1 to predict pollutant output on i+window\n",
    "        \"\"\"\n",
    "        weather_input = self.weather[index:index+self.window].permute(1,0)\n",
    "        pollutant_output = self.pollutant[index+self.window]\n",
    "        return weather_input, pollutant_output\n",
    "\n",
    "    def __len__(self):\n",
    "        return len(self.weather) - self.window"
   ]
  },
  {
   "cell_type": "code",
   "execution_count": 17,
   "metadata": {},
   "outputs": [],
   "source": [
    "train_set = WeatherPollutantDataset(weather=weather_tensor[:5014], pollutant=pollutant_tensor[:5014], window=14)\n",
    "val_set   = WeatherPollutantDataset(weather=weather_tensor[5014:6028], pollutant=pollutant_tensor[5014:6028], window=14)\n",
    "test_set  = WeatherPollutantDataset(weather=weather_tensor[6028:7042], pollutant=pollutant_tensor[6028:7042], window=14)"
   ]
  },
  {
   "cell_type": "code",
   "execution_count": 18,
   "metadata": {},
   "outputs": [
    {
     "name": "stdout",
     "output_type": "stream",
     "text": [
      "Number of training data: 5000\n",
      "Number of validation data: 1000\n",
      "Number of testing data: 1000\n"
     ]
    }
   ],
   "source": [
    "print(\"Number of training data: %d\" % len(train_set))\n",
    "print(\"Number of validation data: %d\" % len(val_set))\n",
    "print(\"Number of testing data: %d\" % len(test_set))"
   ]
  },
  {
   "cell_type": "code",
   "execution_count": 19,
   "metadata": {},
   "outputs": [],
   "source": [
    "from torch.utils.data import DataLoader"
   ]
  },
  {
   "cell_type": "code",
   "execution_count": 20,
   "metadata": {},
   "outputs": [
    {
     "data": {
      "text/plain": [
       "torch.Size([64, 12, 14])"
      ]
     },
     "execution_count": 20,
     "metadata": {},
     "output_type": "execute_result"
    }
   ],
   "source": [
    "test_loader = DataLoader(test_set, batch_size=64)\n",
    "next(iter(test_loader))[0].shape"
   ]
  },
  {
   "cell_type": "markdown",
   "metadata": {},
   "source": [
    "# Model"
   ]
  },
  {
   "cell_type": "code",
   "execution_count": 34,
   "metadata": {},
   "outputs": [],
   "source": [
    "class CNNLSTM(nn.Module):\n",
    "    def __init__(self):\n",
    "        super().__init__()\n",
    "        self.name = \"CNNLSTM\"\n",
    "        self.pool = nn.MaxPool1d(kernel_size=2, stride=2)\n",
    "        self.conv1 = nn.Conv1d(in_channels=12, out_channels=16, kernel_size=3, stride=1, padding=1)\n",
    "        self.norm1 = nn.BatchNorm1d(num_features = 16)\n",
    "        self.conv2 = nn.Conv1d(in_channels=16, out_channels=25, kernel_size=3, stride=1, padding=1)\n",
    "        self.norm2 = nn.BatchNorm1d(num_features = 25)\n",
    "        self.conv3 = nn.Conv1d(in_channels=25, out_channels=36, kernel_size=3, stride=1, padding=1)\n",
    "        self.norm3 = nn.BatchNorm1d(num_features = 36)\n",
    "\n",
    "        self.lstm = nn.LSTM(input_size=36, hidden_size=50, num_layers=3, batch_first=True)\n",
    "        self.linear1 = nn.Linear(50, 20)\n",
    "        self.linear2 = nn.Linear(20, 1)\n",
    "\n",
    "    def forward(self, x):\n",
    "        x = self.pool(F.relu(self.conv1(x)))\n",
    "        x = self.pool(F.relu(self.conv2(x)))\n",
    "        x = self.pool(F.relu(self.conv3(x)))\n",
    "        x = x.squeeze(dim=2)\n",
    "        x, _ = self.lstm(x)\n",
    "        x = F.relu(self.linear1(x))\n",
    "        x = self.linear2(x)\n",
    "        return x"
   ]
  },
  {
   "cell_type": "code",
   "execution_count": 39,
   "metadata": {},
   "outputs": [],
   "source": [
    "import matplotlib.pyplot as plt\n",
    "def evaluate(net, loader, criterion):\n",
    "    total_loss = 0.0\n",
    "    total_epoch = 0\n",
    "    for i, data in enumerate(loader, 0):\n",
    "        inputs, labels = data\n",
    "        if torch.cuda.is_available():\n",
    "          inputs = inputs.float().cuda()\n",
    "          labels = labels.float().cuda()\n",
    "\n",
    "        outputs = net(inputs)\n",
    "        loss = criterion(outputs, labels)\n",
    "        total_loss += loss.item()\n",
    "        total_epoch += len(labels)\n",
    "    loss = float(total_loss) / (i + 1)\n",
    "    return loss\n",
    "\n",
    "def train_net(net, train_set, val_set, batch_size=64, learning_rate=0.01, num_epochs=30):\n",
    "    torch.manual_seed(1000)\n",
    "    train_loader = torch.utils.data.DataLoader(train_set, shuffle=False)\n",
    "    val_loader = torch.utils.data.DataLoader(val_set, shuffle=False)\n",
    "    criterion = nn.MSELoss()\n",
    "    optimizer = optim.Adam(net.parameters(), lr=learning_rate)\n",
    "\n",
    "    train_loss = np.zeros(num_epochs)\n",
    "    val_loss = np.zeros(num_epochs)\n",
    "    net.train()\n",
    "    for epoch in range(num_epochs):\n",
    "        total_train_loss = 0.0\n",
    "        total_epoch = 0\n",
    "\n",
    "        for i, data in enumerate(train_loader, 0):\n",
    "            inputs, labels = data\n",
    "            if torch.torch.cuda.is_available():\n",
    "              inputs = inputs.float().cuda()\n",
    "              labels = labels.float().cuda()\n",
    "            outputs = net(inputs).squeeze()\n",
    "            labels = labels.squeeze()\n",
    "            loss = criterion(outputs, labels)\n",
    "\n",
    "            optimizer.zero_grad()\n",
    "            loss.backward()\n",
    "            optimizer.step()\n",
    "            # Calculate the statistics\n",
    "            total_train_loss += loss.item()\n",
    "            # total_epoch += len(labels)\n",
    "            total_epoch += 1\n",
    "        train_loss[epoch] = float(total_train_loss) / (i+1)\n",
    "        val_loss[epoch] = evaluate(net, val_loader, criterion)\n",
    "        print((\"Epoch {}: Train loss: {} | Validation loss: {}\").format(epoch + 1,train_loss[epoch],val_loss[epoch]))\n",
    "        # Save the current model (checkpoint) to a file\n",
    "        # torch.save(net.state_dict(), model_path)\n",
    "    net.eval()\n",
    "    print('Finished Training')\n",
    "    # Write the train/test loss/err into CSV file for plotting later\n",
    "    epochs = np.arange(1, num_epochs + 1)\n",
    "    plt.plot(epochs, train_loss)\n"
   ]
  },
  {
   "cell_type": "code",
   "execution_count": 40,
   "metadata": {},
   "outputs": [
    {
     "name": "stderr",
     "output_type": "stream",
     "text": [
      "c:\\Users\\xueti\\anaconda3\\lib\\site-packages\\torch\\nn\\modules\\loss.py:536: UserWarning: Using a target size (torch.Size([1])) that is different to the input size (torch.Size([])). This will likely lead to incorrect results due to broadcasting. Please ensure they have the same size.\n",
      "  return F.mse_loss(input, target, reduction=self.reduction)\n",
      "c:\\Users\\xueti\\anaconda3\\lib\\site-packages\\torch\\nn\\modules\\loss.py:536: UserWarning: Using a target size (torch.Size([1])) that is different to the input size (torch.Size([1, 1])). This will likely lead to incorrect results due to broadcasting. Please ensure they have the same size.\n",
      "  return F.mse_loss(input, target, reduction=self.reduction)\n"
     ]
    },
    {
     "name": "stdout",
     "output_type": "stream",
     "text": [
      "Epoch 1: Train loss: 21.55170197874044 | Validation loss: 38.65566642142606\n",
      "Epoch 2: Train loss: 21.13507734233639 | Validation loss: 38.76410396829032\n",
      "Epoch 3: Train loss: 21.19079838030778 | Validation loss: 38.02427832661918\n",
      "Epoch 4: Train loss: 21.421185244902237 | Validation loss: 35.85226127498457\n",
      "Epoch 5: Train loss: 21.729438642333175 | Validation loss: 35.03089296447541\n",
      "Epoch 6: Train loss: 21.609953202172036 | Validation loss: 35.030669547958084\n",
      "Epoch 7: Train loss: 21.60991736208753 | Validation loss: 35.030669569349094\n",
      "Epoch 8: Train loss: 21.60991740039944 | Validation loss: 35.030669569349094\n",
      "Epoch 9: Train loss: 21.60991740039944 | Validation loss: 35.030669569349094\n",
      "Epoch 10: Train loss: 21.60991740039944 | Validation loss: 35.030669569349094\n",
      "Epoch 11: Train loss: 21.60991740039944 | Validation loss: 35.030669569349094\n",
      "Epoch 12: Train loss: 21.60991740039944 | Validation loss: 35.030669569349094\n",
      "Epoch 13: Train loss: 21.60991740039944 | Validation loss: 35.030669569349094\n",
      "Epoch 14: Train loss: 21.60991740039944 | Validation loss: 35.030669569349094\n"
     ]
    },
    {
     "ename": "KeyboardInterrupt",
     "evalue": "",
     "output_type": "error",
     "traceback": [
      "\u001b[1;31m---------------------------------------------------------------------------\u001b[0m",
      "\u001b[1;31mKeyboardInterrupt\u001b[0m                         Traceback (most recent call last)",
      "\u001b[1;32mc:\\Users\\xueti\\OneDrive - National University of Singapore\\Courses\\Y2S1-SEP\\APS360\\Project\\training.ipynb Cell 18\u001b[0m line \u001b[0;36m4\n\u001b[0;32m      <a href='vscode-notebook-cell:/c%3A/Users/xueti/OneDrive%20-%20National%20University%20of%20Singapore/Courses/Y2S1-SEP/APS360/Project/training.ipynb#X23sZmlsZQ%3D%3D?line=1'>2</a>\u001b[0m \u001b[39mif\u001b[39;00m torch\u001b[39m.\u001b[39mcuda\u001b[39m.\u001b[39mis_available():\n\u001b[0;32m      <a href='vscode-notebook-cell:/c%3A/Users/xueti/OneDrive%20-%20National%20University%20of%20Singapore/Courses/Y2S1-SEP/APS360/Project/training.ipynb#X23sZmlsZQ%3D%3D?line=2'>3</a>\u001b[0m     net\u001b[39m.\u001b[39mcuda()\n\u001b[1;32m----> <a href='vscode-notebook-cell:/c%3A/Users/xueti/OneDrive%20-%20National%20University%20of%20Singapore/Courses/Y2S1-SEP/APS360/Project/training.ipynb#X23sZmlsZQ%3D%3D?line=3'>4</a>\u001b[0m train_net(net, train_set, val_set)\n",
      "\u001b[1;32mc:\\Users\\xueti\\OneDrive - National University of Singapore\\Courses\\Y2S1-SEP\\APS360\\Project\\training.ipynb Cell 18\u001b[0m line \u001b[0;36m4\n\u001b[0;32m     <a href='vscode-notebook-cell:/c%3A/Users/xueti/OneDrive%20-%20National%20University%20of%20Singapore/Courses/Y2S1-SEP/APS360/Project/training.ipynb#X23sZmlsZQ%3D%3D?line=44'>45</a>\u001b[0m     total_epoch \u001b[39m+\u001b[39m\u001b[39m=\u001b[39m \u001b[39mlen\u001b[39m(labels)\n\u001b[0;32m     <a href='vscode-notebook-cell:/c%3A/Users/xueti/OneDrive%20-%20National%20University%20of%20Singapore/Courses/Y2S1-SEP/APS360/Project/training.ipynb#X23sZmlsZQ%3D%3D?line=45'>46</a>\u001b[0m train_loss[epoch] \u001b[39m=\u001b[39m \u001b[39mfloat\u001b[39m(total_train_loss) \u001b[39m/\u001b[39m (i\u001b[39m+\u001b[39m\u001b[39m1\u001b[39m)\n\u001b[1;32m---> <a href='vscode-notebook-cell:/c%3A/Users/xueti/OneDrive%20-%20National%20University%20of%20Singapore/Courses/Y2S1-SEP/APS360/Project/training.ipynb#X23sZmlsZQ%3D%3D?line=46'>47</a>\u001b[0m val_loss[epoch] \u001b[39m=\u001b[39m evaluate(net, val_loader, criterion)\n\u001b[0;32m     <a href='vscode-notebook-cell:/c%3A/Users/xueti/OneDrive%20-%20National%20University%20of%20Singapore/Courses/Y2S1-SEP/APS360/Project/training.ipynb#X23sZmlsZQ%3D%3D?line=47'>48</a>\u001b[0m \u001b[39mprint\u001b[39m((\u001b[39m\"\u001b[39m\u001b[39mEpoch \u001b[39m\u001b[39m{}\u001b[39;00m\u001b[39m: Train loss: \u001b[39m\u001b[39m{}\u001b[39;00m\u001b[39m | Validation loss: \u001b[39m\u001b[39m{}\u001b[39;00m\u001b[39m\"\u001b[39m)\u001b[39m.\u001b[39mformat(epoch \u001b[39m+\u001b[39m \u001b[39m1\u001b[39m,train_loss[epoch],val_loss[epoch]))\n\u001b[0;32m     <a href='vscode-notebook-cell:/c%3A/Users/xueti/OneDrive%20-%20National%20University%20of%20Singapore/Courses/Y2S1-SEP/APS360/Project/training.ipynb#X23sZmlsZQ%3D%3D?line=48'>49</a>\u001b[0m \u001b[39m# Save the current model (checkpoint) to a file\u001b[39;00m\n\u001b[0;32m     <a href='vscode-notebook-cell:/c%3A/Users/xueti/OneDrive%20-%20National%20University%20of%20Singapore/Courses/Y2S1-SEP/APS360/Project/training.ipynb#X23sZmlsZQ%3D%3D?line=49'>50</a>\u001b[0m \u001b[39m# torch.save(net.state_dict(), model_path)\u001b[39;00m\n",
      "\u001b[1;32mc:\\Users\\xueti\\OneDrive - National University of Singapore\\Courses\\Y2S1-SEP\\APS360\\Project\\training.ipynb Cell 18\u001b[0m line \u001b[0;36m1\n\u001b[0;32m      <a href='vscode-notebook-cell:/c%3A/Users/xueti/OneDrive%20-%20National%20University%20of%20Singapore/Courses/Y2S1-SEP/APS360/Project/training.ipynb#X23sZmlsZQ%3D%3D?line=7'>8</a>\u001b[0m   inputs \u001b[39m=\u001b[39m inputs\u001b[39m.\u001b[39mfloat()\u001b[39m.\u001b[39mcuda()\n\u001b[0;32m      <a href='vscode-notebook-cell:/c%3A/Users/xueti/OneDrive%20-%20National%20University%20of%20Singapore/Courses/Y2S1-SEP/APS360/Project/training.ipynb#X23sZmlsZQ%3D%3D?line=8'>9</a>\u001b[0m   labels \u001b[39m=\u001b[39m labels\u001b[39m.\u001b[39mfloat()\u001b[39m.\u001b[39mcuda()\n\u001b[1;32m---> <a href='vscode-notebook-cell:/c%3A/Users/xueti/OneDrive%20-%20National%20University%20of%20Singapore/Courses/Y2S1-SEP/APS360/Project/training.ipynb#X23sZmlsZQ%3D%3D?line=10'>11</a>\u001b[0m outputs \u001b[39m=\u001b[39m net(inputs)\n\u001b[0;32m     <a href='vscode-notebook-cell:/c%3A/Users/xueti/OneDrive%20-%20National%20University%20of%20Singapore/Courses/Y2S1-SEP/APS360/Project/training.ipynb#X23sZmlsZQ%3D%3D?line=11'>12</a>\u001b[0m loss \u001b[39m=\u001b[39m criterion(outputs, labels)\n\u001b[0;32m     <a href='vscode-notebook-cell:/c%3A/Users/xueti/OneDrive%20-%20National%20University%20of%20Singapore/Courses/Y2S1-SEP/APS360/Project/training.ipynb#X23sZmlsZQ%3D%3D?line=12'>13</a>\u001b[0m total_loss \u001b[39m+\u001b[39m\u001b[39m=\u001b[39m loss\u001b[39m.\u001b[39mitem()\n",
      "File \u001b[1;32mc:\\Users\\xueti\\anaconda3\\lib\\site-packages\\torch\\nn\\modules\\module.py:1501\u001b[0m, in \u001b[0;36mModule._call_impl\u001b[1;34m(self, *args, **kwargs)\u001b[0m\n\u001b[0;32m   1496\u001b[0m \u001b[39m# If we don't have any hooks, we want to skip the rest of the logic in\u001b[39;00m\n\u001b[0;32m   1497\u001b[0m \u001b[39m# this function, and just call forward.\u001b[39;00m\n\u001b[0;32m   1498\u001b[0m \u001b[39mif\u001b[39;00m \u001b[39mnot\u001b[39;00m (\u001b[39mself\u001b[39m\u001b[39m.\u001b[39m_backward_hooks \u001b[39mor\u001b[39;00m \u001b[39mself\u001b[39m\u001b[39m.\u001b[39m_backward_pre_hooks \u001b[39mor\u001b[39;00m \u001b[39mself\u001b[39m\u001b[39m.\u001b[39m_forward_hooks \u001b[39mor\u001b[39;00m \u001b[39mself\u001b[39m\u001b[39m.\u001b[39m_forward_pre_hooks\n\u001b[0;32m   1499\u001b[0m         \u001b[39mor\u001b[39;00m _global_backward_pre_hooks \u001b[39mor\u001b[39;00m _global_backward_hooks\n\u001b[0;32m   1500\u001b[0m         \u001b[39mor\u001b[39;00m _global_forward_hooks \u001b[39mor\u001b[39;00m _global_forward_pre_hooks):\n\u001b[1;32m-> 1501\u001b[0m     \u001b[39mreturn\u001b[39;00m forward_call(\u001b[39m*\u001b[39margs, \u001b[39m*\u001b[39m\u001b[39m*\u001b[39mkwargs)\n\u001b[0;32m   1502\u001b[0m \u001b[39m# Do not call functions when jit is used\u001b[39;00m\n\u001b[0;32m   1503\u001b[0m full_backward_hooks, non_full_backward_hooks \u001b[39m=\u001b[39m [], []\n",
      "\u001b[1;32mc:\\Users\\xueti\\OneDrive - National University of Singapore\\Courses\\Y2S1-SEP\\APS360\\Project\\training.ipynb Cell 18\u001b[0m line \u001b[0;36m1\n\u001b[0;32m     <a href='vscode-notebook-cell:/c%3A/Users/xueti/OneDrive%20-%20National%20University%20of%20Singapore/Courses/Y2S1-SEP/APS360/Project/training.ipynb#X23sZmlsZQ%3D%3D?line=16'>17</a>\u001b[0m \u001b[39mdef\u001b[39;00m \u001b[39mforward\u001b[39m(\u001b[39mself\u001b[39m, x):\n\u001b[1;32m---> <a href='vscode-notebook-cell:/c%3A/Users/xueti/OneDrive%20-%20National%20University%20of%20Singapore/Courses/Y2S1-SEP/APS360/Project/training.ipynb#X23sZmlsZQ%3D%3D?line=17'>18</a>\u001b[0m     x \u001b[39m=\u001b[39m \u001b[39mself\u001b[39m\u001b[39m.\u001b[39mpool(F\u001b[39m.\u001b[39mrelu(\u001b[39mself\u001b[39;49m\u001b[39m.\u001b[39;49mconv1(x)))\n\u001b[0;32m     <a href='vscode-notebook-cell:/c%3A/Users/xueti/OneDrive%20-%20National%20University%20of%20Singapore/Courses/Y2S1-SEP/APS360/Project/training.ipynb#X23sZmlsZQ%3D%3D?line=18'>19</a>\u001b[0m     x \u001b[39m=\u001b[39m \u001b[39mself\u001b[39m\u001b[39m.\u001b[39mpool(F\u001b[39m.\u001b[39mrelu(\u001b[39mself\u001b[39m\u001b[39m.\u001b[39mconv2(x)))\n\u001b[0;32m     <a href='vscode-notebook-cell:/c%3A/Users/xueti/OneDrive%20-%20National%20University%20of%20Singapore/Courses/Y2S1-SEP/APS360/Project/training.ipynb#X23sZmlsZQ%3D%3D?line=19'>20</a>\u001b[0m     x \u001b[39m=\u001b[39m \u001b[39mself\u001b[39m\u001b[39m.\u001b[39mpool(F\u001b[39m.\u001b[39mrelu(\u001b[39mself\u001b[39m\u001b[39m.\u001b[39mconv3(x)))\n",
      "File \u001b[1;32mc:\\Users\\xueti\\anaconda3\\lib\\site-packages\\torch\\nn\\modules\\module.py:1501\u001b[0m, in \u001b[0;36mModule._call_impl\u001b[1;34m(self, *args, **kwargs)\u001b[0m\n\u001b[0;32m   1496\u001b[0m \u001b[39m# If we don't have any hooks, we want to skip the rest of the logic in\u001b[39;00m\n\u001b[0;32m   1497\u001b[0m \u001b[39m# this function, and just call forward.\u001b[39;00m\n\u001b[0;32m   1498\u001b[0m \u001b[39mif\u001b[39;00m \u001b[39mnot\u001b[39;00m (\u001b[39mself\u001b[39m\u001b[39m.\u001b[39m_backward_hooks \u001b[39mor\u001b[39;00m \u001b[39mself\u001b[39m\u001b[39m.\u001b[39m_backward_pre_hooks \u001b[39mor\u001b[39;00m \u001b[39mself\u001b[39m\u001b[39m.\u001b[39m_forward_hooks \u001b[39mor\u001b[39;00m \u001b[39mself\u001b[39m\u001b[39m.\u001b[39m_forward_pre_hooks\n\u001b[0;32m   1499\u001b[0m         \u001b[39mor\u001b[39;00m _global_backward_pre_hooks \u001b[39mor\u001b[39;00m _global_backward_hooks\n\u001b[0;32m   1500\u001b[0m         \u001b[39mor\u001b[39;00m _global_forward_hooks \u001b[39mor\u001b[39;00m _global_forward_pre_hooks):\n\u001b[1;32m-> 1501\u001b[0m     \u001b[39mreturn\u001b[39;00m forward_call(\u001b[39m*\u001b[39margs, \u001b[39m*\u001b[39m\u001b[39m*\u001b[39mkwargs)\n\u001b[0;32m   1502\u001b[0m \u001b[39m# Do not call functions when jit is used\u001b[39;00m\n\u001b[0;32m   1503\u001b[0m full_backward_hooks, non_full_backward_hooks \u001b[39m=\u001b[39m [], []\n",
      "File \u001b[1;32mc:\\Users\\xueti\\anaconda3\\lib\\site-packages\\torch\\nn\\modules\\conv.py:313\u001b[0m, in \u001b[0;36mConv1d.forward\u001b[1;34m(self, input)\u001b[0m\n\u001b[0;32m    312\u001b[0m \u001b[39mdef\u001b[39;00m \u001b[39mforward\u001b[39m(\u001b[39mself\u001b[39m, \u001b[39minput\u001b[39m: Tensor) \u001b[39m-\u001b[39m\u001b[39m>\u001b[39m Tensor:\n\u001b[1;32m--> 313\u001b[0m     \u001b[39mreturn\u001b[39;00m \u001b[39mself\u001b[39;49m\u001b[39m.\u001b[39;49m_conv_forward(\u001b[39minput\u001b[39;49m, \u001b[39mself\u001b[39;49m\u001b[39m.\u001b[39;49mweight, \u001b[39mself\u001b[39;49m\u001b[39m.\u001b[39;49mbias)\n",
      "File \u001b[1;32mc:\\Users\\xueti\\anaconda3\\lib\\site-packages\\torch\\nn\\modules\\conv.py:309\u001b[0m, in \u001b[0;36mConv1d._conv_forward\u001b[1;34m(self, input, weight, bias)\u001b[0m\n\u001b[0;32m    305\u001b[0m \u001b[39mif\u001b[39;00m \u001b[39mself\u001b[39m\u001b[39m.\u001b[39mpadding_mode \u001b[39m!=\u001b[39m \u001b[39m'\u001b[39m\u001b[39mzeros\u001b[39m\u001b[39m'\u001b[39m:\n\u001b[0;32m    306\u001b[0m     \u001b[39mreturn\u001b[39;00m F\u001b[39m.\u001b[39mconv1d(F\u001b[39m.\u001b[39mpad(\u001b[39minput\u001b[39m, \u001b[39mself\u001b[39m\u001b[39m.\u001b[39m_reversed_padding_repeated_twice, mode\u001b[39m=\u001b[39m\u001b[39mself\u001b[39m\u001b[39m.\u001b[39mpadding_mode),\n\u001b[0;32m    307\u001b[0m                     weight, bias, \u001b[39mself\u001b[39m\u001b[39m.\u001b[39mstride,\n\u001b[0;32m    308\u001b[0m                     _single(\u001b[39m0\u001b[39m), \u001b[39mself\u001b[39m\u001b[39m.\u001b[39mdilation, \u001b[39mself\u001b[39m\u001b[39m.\u001b[39mgroups)\n\u001b[1;32m--> 309\u001b[0m \u001b[39mreturn\u001b[39;00m F\u001b[39m.\u001b[39;49mconv1d(\u001b[39minput\u001b[39;49m, weight, bias, \u001b[39mself\u001b[39;49m\u001b[39m.\u001b[39;49mstride,\n\u001b[0;32m    310\u001b[0m                 \u001b[39mself\u001b[39;49m\u001b[39m.\u001b[39;49mpadding, \u001b[39mself\u001b[39;49m\u001b[39m.\u001b[39;49mdilation, \u001b[39mself\u001b[39;49m\u001b[39m.\u001b[39;49mgroups)\n",
      "\u001b[1;31mKeyboardInterrupt\u001b[0m: "
     ]
    }
   ],
   "source": [
    "net = CNNLSTM()\n",
    "if torch.cuda.is_available():\n",
    "    net.cuda()\n",
    "train_net(net, train_set, val_set)"
   ]
  },
  {
   "cell_type": "code",
   "execution_count": 41,
   "metadata": {},
   "outputs": [
    {
     "data": {
      "text/plain": [
       "[<matplotlib.lines.Line2D at 0x1e9156f08b0>]"
      ]
     },
     "execution_count": 41,
     "metadata": {},
     "output_type": "execute_result"
    },
    {
     "data": {
      "image/png": "[encoded data removed]",
      "text/plain": [
       "<Figure size 640x480 with 1 Axes>"
      ]
     },
     "metadata": {},
     "output_type": "display_data"
    }
   ],
   "source": [
    "test_loader = DataLoader(test_set, batch_size=len(test_set), shuffle=False)\n",
    "data, label = next(iter(test_loader))\n",
    "data = data.float().cuda()\n",
    "pred = net(data)\n",
    "\n",
    "t = range(1000)\n",
    "plt.plot(t, label, 'r')\n",
    "plt.plot(t, pred.cpu().detach().numpy(), 'b')"
   ]
  },
  {
   "cell_type": "code",
   "execution_count": null,
   "metadata": {},
   "outputs": [],
   "source": []
  }
 ],
 "metadata": {
  "kernelspec": {
   "display_name": "base",
   "language": "python",
   "name": "python3"
  },
  "language_info": {
   "codemirror_mode": {
    "name": "ipython",
    "version": 3
   },
   "file_extension": ".py",
   "mimetype": "text/x-python",
   "name": "python",
   "nbconvert_exporter": "python",
   "pygments_lexer": "ipython3",
   "version": "3.10.9"
  }
 },
 "nbformat": 4,
 "nbformat_minor": 2
}
