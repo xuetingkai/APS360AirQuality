{
 "cells": [
  {
   "cell_type": "code",
   "execution_count": 6,
   "metadata": {},
   "outputs": [],
   "source": [
    "import numpy as np\n",
    "import torch\n",
    "import torch.nn as nn\n",
    "import torch.nn.functional as F\n",
    "import torch.optim as optim"
   ]
  },
  {
   "cell_type": "markdown",
   "metadata": {},
   "source": [
    "# Reading the Weather and PM2.5 Data\n",
    "\n",
    "- using min-max normalization"
   ]
  },
  {
   "cell_type": "code",
   "execution_count": 7,
   "metadata": {},
   "outputs": [],
   "source": [
    "from data_preprocessing import load_X_y\n",
    "import pandas as pd\n",
    "\n",
    "weather_df, pollutant_df = load_X_y()"
   ]
  },
  {
   "cell_type": "code",
   "execution_count": 8,
   "metadata": {},
   "outputs": [
    {
     "data": {
      "text/html": [
       "<div>\n",
       "<style scoped>\n",
       "    .dataframe tbody tr th:only-of-type {\n",
       "        vertical-align: middle;\n",
       "    }\n",
       "\n",
       "    .dataframe tbody tr th {\n",
       "        vertical-align: top;\n",
       "    }\n",
       "\n",
       "    .dataframe thead th {\n",
       "        text-align: right;\n",
       "    }\n",
       "</style>\n",
       "<table border=\"1\" class=\"dataframe\">\n",
       "  <thead>\n",
       "    <tr style=\"text-align: right;\">\n",
       "      <th></th>\n",
       "      <th>max_dew_point_v</th>\n",
       "      <th>max_relative_humidity_v</th>\n",
       "      <th>max_temperature_v</th>\n",
       "      <th>max_wind_speed_v</th>\n",
       "      <th>min_dew_point_v</th>\n",
       "      <th>min_relative_humidity_v</th>\n",
       "      <th>min_temperature_v</th>\n",
       "      <th>min_wind_speed_v</th>\n",
       "      <th>precipitation_v</th>\n",
       "      <th>rain_v</th>\n",
       "      <th>snow_v</th>\n",
       "      <th>snow_on_ground_v</th>\n",
       "    </tr>\n",
       "  </thead>\n",
       "  <tbody>\n",
       "    <tr>\n",
       "      <th>count</th>\n",
       "      <td>7304.000000</td>\n",
       "      <td>7304.000000</td>\n",
       "      <td>7304.000000</td>\n",
       "      <td>7304.000000</td>\n",
       "      <td>7304.000000</td>\n",
       "      <td>7304.000000</td>\n",
       "      <td>7304.000000</td>\n",
       "      <td>7304.000000</td>\n",
       "      <td>7304.000000</td>\n",
       "      <td>7304.000000</td>\n",
       "      <td>7304.000000</td>\n",
       "      <td>7304.000000</td>\n",
       "    </tr>\n",
       "    <tr>\n",
       "      <th>mean</th>\n",
       "      <td>0.514953</td>\n",
       "      <td>0.571856</td>\n",
       "      <td>0.524171</td>\n",
       "      <td>0.571205</td>\n",
       "      <td>0.518990</td>\n",
       "      <td>0.486371</td>\n",
       "      <td>0.519177</td>\n",
       "      <td>0.510449</td>\n",
       "      <td>0.491174</td>\n",
       "      <td>0.509921</td>\n",
       "      <td>0.247726</td>\n",
       "      <td>0.177910</td>\n",
       "    </tr>\n",
       "    <tr>\n",
       "      <th>std</th>\n",
       "      <td>0.335249</td>\n",
       "      <td>0.218783</td>\n",
       "      <td>0.335174</td>\n",
       "      <td>0.255798</td>\n",
       "      <td>0.326785</td>\n",
       "      <td>0.261585</td>\n",
       "      <td>0.314073</td>\n",
       "      <td>0.271372</td>\n",
       "      <td>0.181621</td>\n",
       "      <td>0.244698</td>\n",
       "      <td>0.315199</td>\n",
       "      <td>0.278788</td>\n",
       "    </tr>\n",
       "    <tr>\n",
       "      <th>min</th>\n",
       "      <td>0.000000</td>\n",
       "      <td>0.000000</td>\n",
       "      <td>0.000000</td>\n",
       "      <td>0.000000</td>\n",
       "      <td>0.000000</td>\n",
       "      <td>0.000000</td>\n",
       "      <td>0.000000</td>\n",
       "      <td>0.000000</td>\n",
       "      <td>0.000000</td>\n",
       "      <td>0.000000</td>\n",
       "      <td>0.000000</td>\n",
       "      <td>0.000000</td>\n",
       "    </tr>\n",
       "    <tr>\n",
       "      <th>25%</th>\n",
       "      <td>0.179659</td>\n",
       "      <td>0.412934</td>\n",
       "      <td>0.182859</td>\n",
       "      <td>0.357715</td>\n",
       "      <td>0.201610</td>\n",
       "      <td>0.258465</td>\n",
       "      <td>0.210211</td>\n",
       "      <td>0.271762</td>\n",
       "      <td>0.344340</td>\n",
       "      <td>0.237410</td>\n",
       "      <td>0.000000</td>\n",
       "      <td>0.000000</td>\n",
       "    </tr>\n",
       "    <tr>\n",
       "      <th>50%</th>\n",
       "      <td>0.495475</td>\n",
       "      <td>0.597683</td>\n",
       "      <td>0.536310</td>\n",
       "      <td>0.632265</td>\n",
       "      <td>0.500370</td>\n",
       "      <td>0.435290</td>\n",
       "      <td>0.517430</td>\n",
       "      <td>0.509554</td>\n",
       "      <td>0.504717</td>\n",
       "      <td>0.593525</td>\n",
       "      <td>0.016667</td>\n",
       "      <td>0.000000</td>\n",
       "    </tr>\n",
       "    <tr>\n",
       "      <th>75%</th>\n",
       "      <td>0.863534</td>\n",
       "      <td>0.743629</td>\n",
       "      <td>0.859094</td>\n",
       "      <td>0.795591</td>\n",
       "      <td>0.851591</td>\n",
       "      <td>0.731753</td>\n",
       "      <td>0.828169</td>\n",
       "      <td>0.762208</td>\n",
       "      <td>0.617925</td>\n",
       "      <td>0.701439</td>\n",
       "      <td>0.583333</td>\n",
       "      <td>0.360465</td>\n",
       "    </tr>\n",
       "    <tr>\n",
       "      <th>max</th>\n",
       "      <td>1.000000</td>\n",
       "      <td>1.000000</td>\n",
       "      <td>1.000000</td>\n",
       "      <td>1.000000</td>\n",
       "      <td>1.000000</td>\n",
       "      <td>1.000000</td>\n",
       "      <td>1.000000</td>\n",
       "      <td>1.000000</td>\n",
       "      <td>1.000000</td>\n",
       "      <td>1.000000</td>\n",
       "      <td>1.000000</td>\n",
       "      <td>1.000000</td>\n",
       "    </tr>\n",
       "  </tbody>\n",
       "</table>\n",
       "</div>"
      ],
      "text/plain": [
       "       max_dew_point_v  max_relative_humidity_v  max_temperature_v  \\\n",
       "count      7304.000000              7304.000000        7304.000000   \n",
       "mean          0.514953                 0.571856           0.524171   \n",
       "std           0.335249                 0.218783           0.335174   \n",
       "min           0.000000                 0.000000           0.000000   \n",
       "25%           0.179659                 0.412934           0.182859   \n",
       "50%           0.495475                 0.597683           0.536310   \n",
       "75%           0.863534                 0.743629           0.859094   \n",
       "max           1.000000                 1.000000           1.000000   \n",
       "\n",
       "       max_wind_speed_v  min_dew_point_v  min_relative_humidity_v  \\\n",
       "count       7304.000000      7304.000000              7304.000000   \n",
       "mean           0.571205         0.518990                 0.486371   \n",
       "std            0.255798         0.326785                 0.261585   \n",
       "min            0.000000         0.000000                 0.000000   \n",
       "25%            0.357715         0.201610                 0.258465   \n",
       "50%            0.632265         0.500370                 0.435290   \n",
       "75%            0.795591         0.851591                 0.731753   \n",
       "max            1.000000         1.000000                 1.000000   \n",
       "\n",
       "       min_temperature_v  min_wind_speed_v  precipitation_v       rain_v  \\\n",
       "count        7304.000000       7304.000000      7304.000000  7304.000000   \n",
       "mean            0.519177          0.510449         0.491174     0.509921   \n",
       "std             0.314073          0.271372         0.181621     0.244698   \n",
       "min             0.000000          0.000000         0.000000     0.000000   \n",
       "25%             0.210211          0.271762         0.344340     0.237410   \n",
       "50%             0.517430          0.509554         0.504717     0.593525   \n",
       "75%             0.828169          0.762208         0.617925     0.701439   \n",
       "max             1.000000          1.000000         1.000000     1.000000   \n",
       "\n",
       "            snow_v  snow_on_ground_v  \n",
       "count  7304.000000       7304.000000  \n",
       "mean      0.247726          0.177910  \n",
       "std       0.315199          0.278788  \n",
       "min       0.000000          0.000000  \n",
       "25%       0.000000          0.000000  \n",
       "50%       0.016667          0.000000  \n",
       "75%       0.583333          0.360465  \n",
       "max       1.000000          1.000000  "
      ]
     },
     "execution_count": 8,
     "metadata": {},
     "output_type": "execute_result"
    }
   ],
   "source": [
    "weather_df_normalized = (weather_df-weather_df.min())/(weather_df.max()-weather_df.min())\n",
    "weather_df_normalized.describe()"
   ]
  },
  {
   "cell_type": "code",
   "execution_count": 9,
   "metadata": {},
   "outputs": [
    {
     "data": {
      "text/html": [
       "<div>\n",
       "<style scoped>\n",
       "    .dataframe tbody tr th:only-of-type {\n",
       "        vertical-align: middle;\n",
       "    }\n",
       "\n",
       "    .dataframe tbody tr th {\n",
       "        vertical-align: top;\n",
       "    }\n",
       "\n",
       "    .dataframe thead th {\n",
       "        text-align: right;\n",
       "    }\n",
       "</style>\n",
       "<table border=\"1\" class=\"dataframe\">\n",
       "  <thead>\n",
       "    <tr style=\"text-align: right;\">\n",
       "      <th></th>\n",
       "      <th>P2.5</th>\n",
       "    </tr>\n",
       "  </thead>\n",
       "  <tbody>\n",
       "    <tr>\n",
       "      <th>count</th>\n",
       "      <td>7304.000000</td>\n",
       "    </tr>\n",
       "    <tr>\n",
       "      <th>mean</th>\n",
       "      <td>7.435753</td>\n",
       "    </tr>\n",
       "    <tr>\n",
       "      <th>std</th>\n",
       "      <td>5.374638</td>\n",
       "    </tr>\n",
       "    <tr>\n",
       "      <th>min</th>\n",
       "      <td>0.000000</td>\n",
       "    </tr>\n",
       "    <tr>\n",
       "      <th>25%</th>\n",
       "      <td>3.916667</td>\n",
       "    </tr>\n",
       "    <tr>\n",
       "      <th>50%</th>\n",
       "      <td>6.166667</td>\n",
       "    </tr>\n",
       "    <tr>\n",
       "      <th>75%</th>\n",
       "      <td>9.333333</td>\n",
       "    </tr>\n",
       "    <tr>\n",
       "      <th>max</th>\n",
       "      <td>58.666667</td>\n",
       "    </tr>\n",
       "  </tbody>\n",
       "</table>\n",
       "</div>"
      ],
      "text/plain": [
       "              P2.5\n",
       "count  7304.000000\n",
       "mean      7.435753\n",
       "std       5.374638\n",
       "min       0.000000\n",
       "25%       3.916667\n",
       "50%       6.166667\n",
       "75%       9.333333\n",
       "max      58.666667"
      ]
     },
     "execution_count": 9,
     "metadata": {},
     "output_type": "execute_result"
    }
   ],
   "source": [
    "pollutant_df.describe()"
   ]
  },
  {
   "cell_type": "code",
   "execution_count": 10,
   "metadata": {},
   "outputs": [
    {
     "name": "stdout",
     "output_type": "stream",
     "text": [
      "torch.Size([7304])\n",
      "torch.Size([7304, 12])\n"
     ]
    }
   ],
   "source": [
    "pollutant_tensor = torch.tensor(pollutant_df['P2.5'].values)\n",
    "weather_tensor = torch.tensor(weather_df_normalized[:].values)\n",
    "\n",
    "print(pollutant_tensor.shape)\n",
    "print(weather_tensor.shape)"
   ]
  },
  {
   "cell_type": "code",
   "execution_count": 11,
   "metadata": {},
   "outputs": [
    {
     "data": {
      "text/plain": [
       "torch.Tensor"
      ]
     },
     "execution_count": 11,
     "metadata": {},
     "output_type": "execute_result"
    }
   ],
   "source": [
    "type(pollutant_tensor)"
   ]
  },
  {
   "cell_type": "markdown",
   "metadata": {},
   "source": [
    "# Dataset\n",
    "\n",
    "- We'll train using the first 5000+14 days to train, 1000+14 days to validate, 1000+14 days to test\n",
    "- Ensure sequencing is maintained\n",
    "- Test data will be the latest data as the model is intended to use historical data to predict future data"
   ]
  },
  {
   "cell_type": "code",
   "execution_count": 12,
   "metadata": {},
   "outputs": [],
   "source": [
    "from torch.utils.data import Dataset"
   ]
  },
  {
   "cell_type": "code",
   "execution_count": 13,
   "metadata": {},
   "outputs": [],
   "source": [
    "# creating a custom dataset in a sliding window manner\n",
    "class WeatherPollutantDataset(Dataset):\n",
    "    def __init__(self, weather: torch.Tensor, pollutant: torch.Tensor, window:int):\n",
    "        self.weather = weather\n",
    "        self.pollutant = pollutant\n",
    "        # assumes the data starts on the same day\n",
    "        # assumes their length is the same\n",
    "        assert len(self.weather) == len(self.pollutant)\n",
    "        self.window = window\n",
    "\n",
    "    def __getitem__(self, index: int):\n",
    "        \"\"\"\n",
    "        Using weather input on day i,i+1,...,i+window-1 to predict pollutant output on i+window\n",
    "        \"\"\"\n",
    "        weather_input = self.weather[index:index+self.window].permute(1,0)\n",
    "        pollutant_output = self.pollutant[index+1:index+self.window+1]\n",
    "        return weather_input, pollutant_output\n",
    "\n",
    "    def __len__(self):\n",
    "        return len(self.weather) - self.window"
   ]
  },
  {
   "cell_type": "code",
   "execution_count": 14,
   "metadata": {},
   "outputs": [],
   "source": [
    "train_set = WeatherPollutantDataset(weather=weather_tensor[:5014], pollutant=pollutant_tensor[:5014], window=14)\n",
    "val_set   = WeatherPollutantDataset(weather=weather_tensor[5014:6028], pollutant=pollutant_tensor[5014:6028], window=14)\n",
    "test_set  = WeatherPollutantDataset(weather=weather_tensor[6028:7042], pollutant=pollutant_tensor[6028:7042], window=14)"
   ]
  },
  {
   "cell_type": "code",
   "execution_count": 15,
   "metadata": {},
   "outputs": [
    {
     "name": "stdout",
     "output_type": "stream",
     "text": [
      "Number of training data: 5000\n",
      "Number of validation data: 1000\n",
      "Number of testing data: 1000\n"
     ]
    }
   ],
   "source": [
    "print(\"Number of training data: %d\" % len(train_set))\n",
    "print(\"Number of validation data: %d\" % len(val_set))\n",
    "print(\"Number of testing data: %d\" % len(test_set))"
   ]
  },
  {
   "cell_type": "code",
   "execution_count": 16,
   "metadata": {},
   "outputs": [],
   "source": [
    "from torch.utils.data import DataLoader"
   ]
  },
  {
   "cell_type": "code",
   "execution_count": 17,
   "metadata": {},
   "outputs": [
    {
     "data": {
      "text/plain": [
       "torch.Size([64, 12, 14])"
      ]
     },
     "execution_count": 17,
     "metadata": {},
     "output_type": "execute_result"
    }
   ],
   "source": [
    "test_loader = DataLoader(test_set, batch_size=64)\n",
    "next(iter(test_loader))[0].shape"
   ]
  },
  {
   "cell_type": "markdown",
   "metadata": {},
   "source": [
    "# Model"
   ]
  },
  {
   "cell_type": "code",
   "execution_count": 58,
   "metadata": {},
   "outputs": [],
   "source": [
    "class CNNLSTMParam(nn.Module):\n",
    "    def __init__(self, in1, out1, out2, out3, hidden_size_lstm, num_layers_lstm, dense_neurons):\n",
    "        super().__init__()\n",
    "        self.name = \"CNNLSTM\"\n",
    "        self.out3 = out3\n",
    "        self.pool = nn.MaxPool1d(kernel_size=2, stride=2)\n",
    "        self.conv1 = nn.Conv1d(in_channels=12, out_channels=out1, kernel_size=3, stride=1, padding=1)\n",
    "   \n",
    "        self.norm1 = nn.BatchNorm1d(num_features = out1)\n",
    "        self.conv2 = nn.Conv1d(in_channels=out1, out_channels=out2, kernel_size=3, stride=1, padding=1)\n",
    "        self.norm2 = nn.BatchNorm1d(num_features = out2)\n",
    "        self.conv3 = nn.Conv1d(in_channels=out2, out_channels=out3, kernel_size=3, stride=1, padding=1)\n",
    "        self.norm3 = nn.BatchNorm1d(num_features = out3)\n",
    "\n",
    "        self.lstm = nn.LSTM(input_size=7*out3, hidden_size=hidden_size_lstm, num_layers=num_layers_lstm, batch_first=True)\n",
    "        self.linear1 = nn.Linear(hidden_size_lstm, dense_neurons)\n",
    "        self.linear2 = nn.Linear(dense_neurons, 14)\n",
    "\n",
    "    def forward(self, x):\n",
    "     \n",
    "        x = F.relu(self.norm1(self.conv1(x)))\n",
    "        x = F.relu(self.norm2(self.conv2(x)))\n",
    "        x = F.relu(self.norm3(self.conv3(x)))\n",
    "        x = self.pool(x)\n",
    "        x = x.view(-1, 7*self.out3)\n",
    "        # x = x.squeeze(dim=2)\n",
    "        x, _ = self.lstm(x)\n",
    "        x = F.relu(self.linear1(x))\n",
    "        x = self.linear2(x)\n",
    "        return x"
   ]
  },
  {
   "cell_type": "code",
   "execution_count": 59,
   "metadata": {},
   "outputs": [],
   "source": [
    "import matplotlib.pyplot as plt\n",
    "def evaluate(net, loader, criterion):\n",
    "    total_loss = 0.0\n",
    "    total_epoch = 0\n",
    "    for i, data in enumerate(loader, 0):\n",
    "        inputs, labels = data\n",
    "        # if torch.cuda.is_available():\n",
    "        inputs = inputs.float()\n",
    "        labels = labels.float()\n",
    "\n",
    "        outputs = net(inputs)\n",
    "        loss = criterion(outputs, labels)\n",
    "        total_loss += loss.item()\n",
    "        total_epoch += len(labels)\n",
    "    loss = float(total_loss) / (i + 1)\n",
    "    \n",
    "    \n",
    "    return loss\n",
    "\n",
    "def train_net(hyperparameters):\n",
    "    torch.manual_seed(1000)\n",
    "    \n",
    "    batch_size, learning_rate, num_epochs, in1, out1, out2, out3, hidden_size_lstm, num_layers_lstm, dense_neurons = hyperparameters\n",
    "    \n",
    "    net = CNNLSTMParam(in1, out1, out2, out3, hidden_size_lstm, num_layers_lstm, dense_neurons) \n",
    "    \n",
    "    train_loader = torch.utils.data.DataLoader(train_set, batch_size = batch_size, shuffle=False)\n",
    "    val_loader = torch.utils.data.DataLoader(val_set, batch_size = batch_size, shuffle=False)\n",
    "    criterion = nn.MSELoss()\n",
    "    optimizer = optim.SGD(net.parameters(), lr=learning_rate)\n",
    "\n",
    "    train_loss = np.zeros(num_epochs)\n",
    "    val_loss = np.zeros(num_epochs)\n",
    "    \n",
    "    \n",
    "    \n",
    "    net.train()\n",
    "    for epoch in range(num_epochs):\n",
    "        total_train_loss = 0.0\n",
    "        total_epoch = 0\n",
    "\n",
    "        for i, data in enumerate(train_loader, 0):\n",
    "            inputs, labels = data\n",
    "            # if torch.torch.cuda.is_available():\n",
    "            inputs = inputs.float()\n",
    "            labels = labels.float()\n",
    "            optimizer.zero_grad()\n",
    "            outputs = net(inputs).squeeze()\n",
    "            labels = labels.squeeze()\n",
    "            loss = criterion(outputs, labels)\n",
    "\n",
    "            loss.backward()\n",
    "            optimizer.step()\n",
    "            # Calculate the statistics\n",
    "            total_train_loss += loss.item()\n",
    "            # total_epoch += len(labels)\n",
    "            total_epoch += 1\n",
    "        train_loss[epoch] = float(total_train_loss) / (i+1)\n",
    "        val_loss[epoch] = evaluate(net, val_loader, criterion)\n",
    "        if epoch%10 == 0:\n",
    "            print((\"Epoch {}: Train loss: {} | Validation loss: {}\").format(epoch,train_loss[epoch],val_loss[epoch]))\n",
    "        # Save the current model (checkpoint) to a file\n",
    "        # torch.save(net.state_dict(), 'ckpt/01112023_mse_batchsize_%d_learningrate_%d_epoch_%d'%(batch_size, learning_rate, 60+epoch))\n",
    "    net.eval()\n",
    "    print('Finished Training')\n",
    "    \n",
    "    with open('ga_runs.txt', 'a') as f:\n",
    "        print('Writing to file')\n",
    "        f.write(str(hyperparameters))\n",
    "        f.write('\\t')\n",
    "        f.write(str(train_loss[-1]))\n",
    "        f.write('\\t')\n",
    "        f.write(str(val_loss[-1]))\n",
    "        f.write('\\n')\n",
    "     \n",
    "    \n",
    "    return (train_loss[-1]+2*val_loss[-1])/3, net\n",
    "    # Write the train/test loss/err into CSV file for plotting later\n",
    "    # epochs = np.arange(1, num_epochs + 1)\n",
    "    # plt.title(\"Train loss\")\n",
    "    # plt.plot(epochs, train_loss)\n",
    "    # plt.xlabel(\"Epoch\")\n",
    "    # plt.ylabel(\"Loss\")\n",
    "\n",
    "    # plt.title(\"Validation loss\")\n",
    "    # plt.plot(epochs, val_loss)\n",
    "    # plt.xlabel(\"Epoch\")\n",
    "    # plt.ylabel(\"Loss\")\n",
    "\n"
   ]
  },
  {
   "cell_type": "code",
   "execution_count": 60,
   "metadata": {},
   "outputs": [
    {
     "name": "stdout",
     "output_type": "stream",
     "text": [
      "hyperparameters: [18, 0.09907647058823531, 92, 21, 52, 11, 6, 2, 1, 38]\n",
      "Epoch 0: Train loss: 24.600440539687657 | Validation loss: 38.85346727286066\n"
     ]
    },
    {
     "ename": "KeyboardInterrupt",
     "evalue": "",
     "output_type": "error",
     "traceback": [
      "\u001b[1;31m---------------------------------------------------------------------------\u001b[0m",
      "\u001b[1;31mKeyboardInterrupt\u001b[0m                         Traceback (most recent call last)",
      "\u001b[1;32mc:\\Users\\gretk\\Documents\\APS360AirQuality\\training copy.ipynb Cell 18\u001b[0m line \u001b[0;36m7\n\u001b[0;32m     <a href='vscode-notebook-cell:/c%3A/Users/gretk/Documents/APS360AirQuality/training%20copy.ipynb#X23sZmlsZQ%3D%3D?line=70'>71</a>\u001b[0m toolbox\u001b[39m.\u001b[39mregister(\u001b[39m'\u001b[39m\u001b[39mevaluate\u001b[39m\u001b[39m'\u001b[39m, train_evaluate)\n\u001b[0;32m     <a href='vscode-notebook-cell:/c%3A/Users/gretk/Documents/APS360AirQuality/training%20copy.ipynb#X23sZmlsZQ%3D%3D?line=72'>73</a>\u001b[0m population \u001b[39m=\u001b[39m toolbox\u001b[39m.\u001b[39mpopulation(n\u001b[39m=\u001b[39mpopulation_size)\n\u001b[1;32m---> <a href='vscode-notebook-cell:/c%3A/Users/gretk/Documents/APS360AirQuality/training%20copy.ipynb#X23sZmlsZQ%3D%3D?line=73'>74</a>\u001b[0m r \u001b[39m=\u001b[39m algorithms\u001b[39m.\u001b[39;49meaSimple(population, toolbox, cxpb\u001b[39m=\u001b[39;49m\u001b[39m0.4\u001b[39;49m, mutpb\u001b[39m=\u001b[39;49m\u001b[39m0.1\u001b[39;49m, ngen\u001b[39m=\u001b[39;49mnum_generations, verbose\u001b[39m=\u001b[39;49m\u001b[39mTrue\u001b[39;49;00m)\n\u001b[0;32m     <a href='vscode-notebook-cell:/c%3A/Users/gretk/Documents/APS360AirQuality/training%20copy.ipynb#X23sZmlsZQ%3D%3D?line=75'>76</a>\u001b[0m best_individual \u001b[39m=\u001b[39m tools\u001b[39m.\u001b[39mselBest(population, k\u001b[39m=\u001b[39m\u001b[39m1\u001b[39m)[\u001b[39m0\u001b[39m]\n\u001b[0;32m     <a href='vscode-notebook-cell:/c%3A/Users/gretk/Documents/APS360AirQuality/training%20copy.ipynb#X23sZmlsZQ%3D%3D?line=76'>77</a>\u001b[0m \u001b[39mprint\u001b[39m(\u001b[39m'\u001b[39m\u001b[39mBest ever individual = \u001b[39m\u001b[39m'\u001b[39m, best_individual, \u001b[39m'\u001b[39m\u001b[39m\\n\u001b[39;00m\u001b[39mFitness = \u001b[39m\u001b[39m'\u001b[39m, best_individual\u001b[39m.\u001b[39mfitness\u001b[39m.\u001b[39mvalues[\u001b[39m0\u001b[39m])\n",
      "File \u001b[1;32m~\\AppData\\Roaming\\Python\\Python310\\site-packages\\deap\\algorithms.py:151\u001b[0m, in \u001b[0;36meaSimple\u001b[1;34m(population, toolbox, cxpb, mutpb, ngen, stats, halloffame, verbose)\u001b[0m\n\u001b[0;32m    149\u001b[0m invalid_ind \u001b[39m=\u001b[39m [ind \u001b[39mfor\u001b[39;00m ind \u001b[39min\u001b[39;00m population \u001b[39mif\u001b[39;00m \u001b[39mnot\u001b[39;00m ind\u001b[39m.\u001b[39mfitness\u001b[39m.\u001b[39mvalid]\n\u001b[0;32m    150\u001b[0m fitnesses \u001b[39m=\u001b[39m toolbox\u001b[39m.\u001b[39mmap(toolbox\u001b[39m.\u001b[39mevaluate, invalid_ind)\n\u001b[1;32m--> 151\u001b[0m \u001b[39mfor\u001b[39;00m ind, fit \u001b[39min\u001b[39;00m \u001b[39mzip\u001b[39m(invalid_ind, fitnesses):\n\u001b[0;32m    152\u001b[0m     ind\u001b[39m.\u001b[39mfitness\u001b[39m.\u001b[39mvalues \u001b[39m=\u001b[39m fit\n\u001b[0;32m    154\u001b[0m \u001b[39mif\u001b[39;00m halloffame \u001b[39mis\u001b[39;00m \u001b[39mnot\u001b[39;00m \u001b[39mNone\u001b[39;00m:\n",
      "\u001b[1;32mc:\\Users\\gretk\\Documents\\APS360AirQuality\\training copy.ipynb Cell 18\u001b[0m line \u001b[0;36m5\n\u001b[0;32m     <a href='vscode-notebook-cell:/c%3A/Users/gretk/Documents/APS360AirQuality/training%20copy.ipynb#X23sZmlsZQ%3D%3D?line=49'>50</a>\u001b[0m \u001b[39m#[26, 4, [13, 18, 7, 1], [3, 3, 3, 3], [1, 1, 1, 1], [1, 1, 1, 1], 4, 1, None, 0.04515, 1833, 100]\u001b[39;00m\n\u001b[0;32m     <a href='vscode-notebook-cell:/c%3A/Users/gretk/Documents/APS360AirQuality/training%20copy.ipynb#X23sZmlsZQ%3D%3D?line=50'>51</a>\u001b[0m \u001b[39mprint\u001b[39m(\u001b[39mf\u001b[39m\u001b[39m'\u001b[39m\u001b[39mhyperparameters: \u001b[39m\u001b[39m{\u001b[39;00mhyperparameters\u001b[39m}\u001b[39;00m\u001b[39m'\u001b[39m)\n\u001b[1;32m---> <a href='vscode-notebook-cell:/c%3A/Users/gretk/Documents/APS360AirQuality/training%20copy.ipynb#X23sZmlsZQ%3D%3D?line=51'>52</a>\u001b[0m loss \u001b[39m=\u001b[39m train_net(hyperparameters)\n\u001b[0;32m     <a href='vscode-notebook-cell:/c%3A/Users/gretk/Documents/APS360AirQuality/training%20copy.ipynb#X23sZmlsZQ%3D%3D?line=52'>53</a>\u001b[0m \u001b[39mreturn\u001b[39;00m [loss]\n",
      "\u001b[1;32mc:\\Users\\gretk\\Documents\\APS360AirQuality\\training copy.ipynb Cell 18\u001b[0m line \u001b[0;36m5\n\u001b[0;32m     <a href='vscode-notebook-cell:/c%3A/Users/gretk/Documents/APS360AirQuality/training%20copy.ipynb#X23sZmlsZQ%3D%3D?line=49'>50</a>\u001b[0m loss \u001b[39m=\u001b[39m criterion(outputs, labels)\n\u001b[0;32m     <a href='vscode-notebook-cell:/c%3A/Users/gretk/Documents/APS360AirQuality/training%20copy.ipynb#X23sZmlsZQ%3D%3D?line=51'>52</a>\u001b[0m loss\u001b[39m.\u001b[39mbackward()\n\u001b[1;32m---> <a href='vscode-notebook-cell:/c%3A/Users/gretk/Documents/APS360AirQuality/training%20copy.ipynb#X23sZmlsZQ%3D%3D?line=52'>53</a>\u001b[0m optimizer\u001b[39m.\u001b[39;49mstep()\n\u001b[0;32m     <a href='vscode-notebook-cell:/c%3A/Users/gretk/Documents/APS360AirQuality/training%20copy.ipynb#X23sZmlsZQ%3D%3D?line=53'>54</a>\u001b[0m \u001b[39m# Calculate the statistics\u001b[39;00m\n\u001b[0;32m     <a href='vscode-notebook-cell:/c%3A/Users/gretk/Documents/APS360AirQuality/training%20copy.ipynb#X23sZmlsZQ%3D%3D?line=54'>55</a>\u001b[0m total_train_loss \u001b[39m+\u001b[39m\u001b[39m=\u001b[39m loss\u001b[39m.\u001b[39mitem()\n",
      "File \u001b[1;32m~\\AppData\\Roaming\\Python\\Python310\\site-packages\\torch\\optim\\optimizer.py:373\u001b[0m, in \u001b[0;36mOptimizer.profile_hook_step.<locals>.wrapper\u001b[1;34m(*args, **kwargs)\u001b[0m\n\u001b[0;32m    368\u001b[0m         \u001b[39melse\u001b[39;00m:\n\u001b[0;32m    369\u001b[0m             \u001b[39mraise\u001b[39;00m \u001b[39mRuntimeError\u001b[39;00m(\n\u001b[0;32m    370\u001b[0m                 \u001b[39mf\u001b[39m\u001b[39m\"\u001b[39m\u001b[39m{\u001b[39;00mfunc\u001b[39m}\u001b[39;00m\u001b[39m must return None or a tuple of (new_args, new_kwargs), but got \u001b[39m\u001b[39m{\u001b[39;00mresult\u001b[39m}\u001b[39;00m\u001b[39m.\u001b[39m\u001b[39m\"\u001b[39m\n\u001b[0;32m    371\u001b[0m             )\n\u001b[1;32m--> 373\u001b[0m out \u001b[39m=\u001b[39m func(\u001b[39m*\u001b[39margs, \u001b[39m*\u001b[39m\u001b[39m*\u001b[39mkwargs)\n\u001b[0;32m    374\u001b[0m \u001b[39mself\u001b[39m\u001b[39m.\u001b[39m_optimizer_step_code()\n\u001b[0;32m    376\u001b[0m \u001b[39m# call optimizer step post hooks\u001b[39;00m\n",
      "File \u001b[1;32m~\\AppData\\Roaming\\Python\\Python310\\site-packages\\torch\\optim\\optimizer.py:76\u001b[0m, in \u001b[0;36m_use_grad_for_differentiable.<locals>._use_grad\u001b[1;34m(self, *args, **kwargs)\u001b[0m\n\u001b[0;32m     74\u001b[0m     torch\u001b[39m.\u001b[39mset_grad_enabled(\u001b[39mself\u001b[39m\u001b[39m.\u001b[39mdefaults[\u001b[39m'\u001b[39m\u001b[39mdifferentiable\u001b[39m\u001b[39m'\u001b[39m])\n\u001b[0;32m     75\u001b[0m     torch\u001b[39m.\u001b[39m_dynamo\u001b[39m.\u001b[39mgraph_break()\n\u001b[1;32m---> 76\u001b[0m     ret \u001b[39m=\u001b[39m func(\u001b[39mself\u001b[39m, \u001b[39m*\u001b[39margs, \u001b[39m*\u001b[39m\u001b[39m*\u001b[39mkwargs)\n\u001b[0;32m     77\u001b[0m \u001b[39mfinally\u001b[39;00m:\n\u001b[0;32m     78\u001b[0m     torch\u001b[39m.\u001b[39m_dynamo\u001b[39m.\u001b[39mgraph_break()\n",
      "File \u001b[1;32m~\\AppData\\Roaming\\Python\\Python310\\site-packages\\torch\\optim\\sgd.py:75\u001b[0m, in \u001b[0;36mSGD.step\u001b[1;34m(self, closure)\u001b[0m\n\u001b[0;32m     71\u001b[0m momentum_buffer_list \u001b[39m=\u001b[39m []\n\u001b[0;32m     73\u001b[0m has_sparse_grad \u001b[39m=\u001b[39m \u001b[39mself\u001b[39m\u001b[39m.\u001b[39m_init_group(group, params_with_grad, d_p_list, momentum_buffer_list)\n\u001b[1;32m---> 75\u001b[0m sgd(params_with_grad,\n\u001b[0;32m     76\u001b[0m     d_p_list,\n\u001b[0;32m     77\u001b[0m     momentum_buffer_list,\n\u001b[0;32m     78\u001b[0m     weight_decay\u001b[39m=\u001b[39;49mgroup[\u001b[39m'\u001b[39;49m\u001b[39mweight_decay\u001b[39;49m\u001b[39m'\u001b[39;49m],\n\u001b[0;32m     79\u001b[0m     momentum\u001b[39m=\u001b[39;49mgroup[\u001b[39m'\u001b[39;49m\u001b[39mmomentum\u001b[39;49m\u001b[39m'\u001b[39;49m],\n\u001b[0;32m     80\u001b[0m     lr\u001b[39m=\u001b[39;49mgroup[\u001b[39m'\u001b[39;49m\u001b[39mlr\u001b[39;49m\u001b[39m'\u001b[39;49m],\n\u001b[0;32m     81\u001b[0m     dampening\u001b[39m=\u001b[39;49mgroup[\u001b[39m'\u001b[39;49m\u001b[39mdampening\u001b[39;49m\u001b[39m'\u001b[39;49m],\n\u001b[0;32m     82\u001b[0m     nesterov\u001b[39m=\u001b[39;49mgroup[\u001b[39m'\u001b[39;49m\u001b[39mnesterov\u001b[39;49m\u001b[39m'\u001b[39;49m],\n\u001b[0;32m     83\u001b[0m     maximize\u001b[39m=\u001b[39;49mgroup[\u001b[39m'\u001b[39;49m\u001b[39mmaximize\u001b[39;49m\u001b[39m'\u001b[39;49m],\n\u001b[0;32m     84\u001b[0m     has_sparse_grad\u001b[39m=\u001b[39;49mhas_sparse_grad,\n\u001b[0;32m     85\u001b[0m     foreach\u001b[39m=\u001b[39;49mgroup[\u001b[39m'\u001b[39;49m\u001b[39mforeach\u001b[39;49m\u001b[39m'\u001b[39;49m])\n\u001b[0;32m     87\u001b[0m \u001b[39m# update momentum_buffers in state\u001b[39;00m\n\u001b[0;32m     88\u001b[0m \u001b[39mfor\u001b[39;00m p, momentum_buffer \u001b[39min\u001b[39;00m \u001b[39mzip\u001b[39m(params_with_grad, momentum_buffer_list):\n",
      "File \u001b[1;32m~\\AppData\\Roaming\\Python\\Python310\\site-packages\\torch\\optim\\sgd.py:220\u001b[0m, in \u001b[0;36msgd\u001b[1;34m(params, d_p_list, momentum_buffer_list, has_sparse_grad, foreach, weight_decay, momentum, lr, dampening, nesterov, maximize)\u001b[0m\n\u001b[0;32m    217\u001b[0m \u001b[39melse\u001b[39;00m:\n\u001b[0;32m    218\u001b[0m     func \u001b[39m=\u001b[39m _single_tensor_sgd\n\u001b[1;32m--> 220\u001b[0m func(params,\n\u001b[0;32m    221\u001b[0m      d_p_list,\n\u001b[0;32m    222\u001b[0m      momentum_buffer_list,\n\u001b[0;32m    223\u001b[0m      weight_decay\u001b[39m=\u001b[39;49mweight_decay,\n\u001b[0;32m    224\u001b[0m      momentum\u001b[39m=\u001b[39;49mmomentum,\n\u001b[0;32m    225\u001b[0m      lr\u001b[39m=\u001b[39;49mlr,\n\u001b[0;32m    226\u001b[0m      dampening\u001b[39m=\u001b[39;49mdampening,\n\u001b[0;32m    227\u001b[0m      nesterov\u001b[39m=\u001b[39;49mnesterov,\n\u001b[0;32m    228\u001b[0m      has_sparse_grad\u001b[39m=\u001b[39;49mhas_sparse_grad,\n\u001b[0;32m    229\u001b[0m      maximize\u001b[39m=\u001b[39;49mmaximize)\n",
      "File \u001b[1;32m~\\AppData\\Roaming\\Python\\Python310\\site-packages\\torch\\optim\\sgd.py:263\u001b[0m, in \u001b[0;36m_single_tensor_sgd\u001b[1;34m(params, d_p_list, momentum_buffer_list, weight_decay, momentum, lr, dampening, nesterov, maximize, has_sparse_grad)\u001b[0m\n\u001b[0;32m    260\u001b[0m     \u001b[39melse\u001b[39;00m:\n\u001b[0;32m    261\u001b[0m         d_p \u001b[39m=\u001b[39m buf\n\u001b[1;32m--> 263\u001b[0m param\u001b[39m.\u001b[39;49madd_(d_p, alpha\u001b[39m=\u001b[39;49m\u001b[39m-\u001b[39;49mlr)\n",
      "\u001b[1;31mKeyboardInterrupt\u001b[0m: "
     ]
    }
   ],
   "source": [
    "from deap import base, creator, tools, algorithms\n",
    "from scipy.stats import bernoulli\n",
    "\n",
    "import numpy as np\n",
    "from bitstring import BitArray\n",
    "\n",
    "\n",
    "def train_evaluate(ga_individual_solution):\n",
    "    gene_length = 8\n",
    "    num_epochs = 30\n",
    "    \n",
    "\n",
    "    in1 = BitArray(ga_individual_solution[0:gene_length])\n",
    "    out1 = BitArray(ga_individual_solution[gene_length:2*gene_length])\n",
    "    out2 = BitArray(ga_individual_solution[2*gene_length:3*gene_length])\n",
    "    out3 = BitArray(ga_individual_solution[3*gene_length:4*gene_length])\n",
    "    hidden_size_lstm = BitArray(ga_individual_solution[4*gene_length:5*gene_length])\n",
    "    num_layers_lstm = BitArray(ga_individual_solution[5*gene_length:6*gene_length])\n",
    "    dense_neurons = BitArray(ga_individual_solution[6*gene_length:7*gene_length])\n",
    "    lr = BitArray(ga_individual_solution[7*gene_length:8*gene_length])\n",
    "    batch_size = BitArray(ga_individual_solution[8*gene_length:9*gene_length])\n",
    "    num_epochs = BitArray(ga_individual_solution[9*gene_length:10*gene_length])\n",
    "\n",
    "    in1 = in1.uint\n",
    "    out1 = out1.uint\n",
    "    out2 = out2.uint\n",
    "    out3 = out3.uint\n",
    "    hidden_size_lstm = hidden_size_lstm.uint\n",
    "    num_layers_lstm = num_layers_lstm.uint\n",
    "    dense_neurons = dense_neurons.uint\n",
    "  \n",
    "    lr = lr.uint\n",
    "    batch_size = batch_size.uint\n",
    "    num_epochs = num_epochs.uint\n",
    "\n",
    "    # resize hyperparameterss to be within range\n",
    "    in1 = int(np.interp(in1, [0, 255], [1, 31]))\n",
    "    out1 = int(np.interp(out1, [0, 255], [4, 100]))\n",
    "    out2 = int(np.interp(out2, [0, 255], [4, 100]))\n",
    "    out3 = int(np.interp(out3, [0, 255], [4, 100]))\n",
    "    hidden_size_lstm = int(np.interp(hidden_size_lstm, [0, 255], [2, 25]))\n",
    "    num_layers_lstm = int(np.interp(num_layers_lstm, [0, 255], [1, 5]))\n",
    "    dense_neurons = int(np.interp(dense_neurons, [0, 255], [10, 50]))\n",
    "    lr = np.interp(lr, [0, 255], [0.0005, 0.2])\n",
    "    batch_size = int(np.interp(batch_size, [0, 255], [1, 64]))\n",
    "    num_epochs = int(np.interp(num_epochs, [0, 255], [10, 100]))\n",
    "    num_layers_lstm = 1\n",
    "    #to optimise: seq, num_layers_conv, output_channels (num of kernels), hidden_size_lstm, num_layers_lstm, lr, batch_size, n_epoch\n",
    "    hyperparameters = [batch_size, lr, num_epochs, in1, out1, out2, out3, hidden_size_lstm, num_layers_lstm, dense_neurons]\n",
    "    #[26, 4, [13, 18, 7, 1], [3, 3, 3, 3], [1, 1, 1, 1], [1, 1, 1, 1], 4, 1, None, 0.04515, 1833, 100]\n",
    "    print(f'hyperparameters: {hyperparameters}')\n",
    "    loss = train_net(hyperparameters)\n",
    "    return [loss]\n",
    "\n",
    "\n",
    "population_size = 50\n",
    "num_generations = 5\n",
    "entire_bit_array_length = 11*8\n",
    "\n",
    "creator.create('FitnessMax', base.Fitness, weights=[-1.0])\n",
    "creator.create('Individual', list, fitness=creator.FitnessMax)\n",
    "\n",
    "toolbox = base.Toolbox()\n",
    "toolbox.register('binary', bernoulli.rvs, 0.5)\n",
    "toolbox.register('individual', tools.initRepeat, creator.Individual, toolbox.binary, n=entire_bit_array_length)\n",
    "toolbox.register('population', tools.initRepeat, list, toolbox.individual)\n",
    "\n",
    "toolbox.register('mate', tools.cxOrdered)\n",
    "toolbox.register('mutate', tools.mutShuffleIndexes, indpb=0.6)\n",
    "toolbox.register('select', tools.selTournament, tournsize=int(population_size/2))\n",
    "toolbox.register('evaluate', train_evaluate)\n",
    "\n",
    "population = toolbox.population(n=population_size)\n",
    "r = algorithms.eaSimple(population, toolbox, cxpb=0.4, mutpb=0.1, ngen=num_generations, verbose=True)\n",
    "\n",
    "best_individual = tools.selBest(population, k=1)[0]\n",
    "print('Best ever individual = ', best_individual, '\\nFitness = ', best_individual.fitness.values[0])\n",
    "print(f'list of individuals = {best_individual}')\n",
    "\n"
   ]
  },
  {
   "cell_type": "code",
   "execution_count": 61,
   "metadata": {},
   "outputs": [
    {
     "name": "stdout",
     "output_type": "stream",
     "text": [
      "Epoch 0: Train loss: 30.322505995806527 | Validation loss: 40.23474931716919\n",
      "Epoch 10: Train loss: 21.828172492980958 | Validation loss: 37.52723623724545\n",
      "Epoch 20: Train loss: 21.30751817927641 | Validation loss: 35.7322930728688\n",
      "Epoch 30: Train loss: 20.628741774839515 | Validation loss: 34.94048376644359\n",
      "Epoch 40: Train loss: 20.042576705708225 | Validation loss: 34.49970377192778\n",
      "Epoch 50: Train loss: 19.30090917699477 | Validation loss: 33.99808109507841\n",
      "Epoch 60: Train loss: 20.03396426930147 | Validation loss: 35.87345510370591\n",
      "Epoch 70: Train loss: 18.95833729575662 | Validation loss: 35.327150485094855\n",
      "Finished Training\n",
      "Writing to file\n"
     ]
    }
   ],
   "source": [
    "_, net = train_net([59, 0.06230588235294118, 78, 16, 39, 48, 80, 21, 1, 11])"
   ]
  },
  {
   "cell_type": "code",
   "execution_count": 62,
   "metadata": {},
   "outputs": [
    {
     "name": "stdout",
     "output_type": "stream",
     "text": [
      "53.4475207114128\n"
     ]
    },
    {
     "data": {
      "image/png": "[encoded data removed]",
      "text/plain": [
       "<Figure size 640x480 with 1 Axes>"
      ]
     },
     "metadata": {},
     "output_type": "display_data"
    }
   ],
   "source": [
    "test_loader = DataLoader(test_set, batch_size=len(test_set), shuffle=False)\n",
    "data, label = next(iter(test_loader))\n",
    "data = data.float()\n",
    "pred = net(data)\n",
    "\n",
    "mse = nn.MSELoss()\n",
    "loss = mse(pred, label)\n",
    "print(loss.item())\n",
    "\n",
    "\n",
    "t = range(1000)\n",
    "plt.title(\"PM2.5 concentration over 1000 days \")\n",
    "plt.plot(t, label.transpose(0,1)[0], 'r', label=\"Label\")\n",
    "plt.plot(t, pred.cpu().detach().numpy().transpose(0,1)[:,0], 'b', label='Prediction')\n",
    "plt.xlabel(\"Days\")\n",
    "plt.ylabel(\"PM2.5 Concentration\")\n",
    "plt.legend(loc='best')\n",
    "plt.show()"
   ]
  },
  {
   "cell_type": "code",
   "execution_count": null,
   "metadata": {},
   "outputs": [],
   "source": []
  }
 ],
 "metadata": {
  "kernelspec": {
   "display_name": "base",
   "language": "python",
   "name": "python3"
  },
  "language_info": {
   "codemirror_mode": {
    "name": "ipython",
    "version": 3
   },
   "file_extension": ".py",
   "mimetype": "text/x-python",
   "name": "python",
   "nbconvert_exporter": "python",
   "pygments_lexer": "ipython3",
   "version": "3.10.4"
  }
 },
 "nbformat": 4,
 "nbformat_minor": 2
}
